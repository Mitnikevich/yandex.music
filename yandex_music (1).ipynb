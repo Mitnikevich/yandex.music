{
 "cells": [
  {
   "cell_type": "markdown",
   "metadata": {
    "id": "E0vqbgi9ay0H"
   },
   "source": [
    "# Яндекс.Музыка"
   ]
  },
  {
   "cell_type": "markdown",
   "metadata": {
    "id": "VUC88oWjTJw2"
   },
   "source": [
    "Сравнение Москвы и Петербурга окружено мифами. Например:\n",
    " * Москва — мегаполис, подчинённый жёсткому ритму рабочей недели;\n",
    " * Петербург — культурная столица, со своими вкусами.\n",
    "\n",
    "На данных Яндекс.Музыки вы сравните поведение пользователей двух столиц.\n",
    "\n",
    "**Цель исследования** — проверьте три гипотезы:\n",
    "1. Активность пользователей зависит от дня недели. Причём в Москве и Петербурге это проявляется по-разному.\n",
    "2. В понедельник утром в Москве преобладают одни жанры, а в Петербурге — другие. Так же и вечером пятницы преобладают разные жанры — в зависимости от города. \n",
    "3. Москва и Петербург предпочитают разные жанры музыки. В Москве чаще слушают поп-музыку, в Петербурге — русский рэп.\n",
    "\n",
    "**Ход исследования**\n",
    "\n",
    "Данные о поведении пользователей вы получите из файла `yandex_music_project.csv`. О качестве данных ничего не известно. Поэтому перед проверкой гипотез понадобится обзор данных. \n",
    "\n",
    "Вы проверите данные на ошибки и оцените их влияние на исследование. Затем, на этапе предобработки вы поищете возможность исправить самые критичные ошибки данных.\n",
    " \n",
    "Таким образом, исследование пройдёт в три этапа:\n",
    " 1. Обзор данных.\n",
    " 2. Предобработка данных.\n",
    " 3. Проверка гипотез.\n",
    "\n"
   ]
  },
  {
   "cell_type": "markdown",
   "metadata": {
    "id": "Ml1hmfXC_Zcs"
   },
   "source": [
    "## Обзор данных\n",
    "\n",
    "Составьте первое представление о данных Яндекс.Музыки.\n",
    "\n",
    "\n"
   ]
  },
  {
   "cell_type": "markdown",
   "metadata": {
    "id": "57eAOGIz_Zcs"
   },
   "source": [
    "Основной инструмент аналитика — `pandas`. Импортируйте эту библиотеку."
   ]
  },
  {
   "cell_type": "code",
   "execution_count": 3,
   "metadata": {
    "id": "AXN7PHPN_Zcs"
   },
   "outputs": [],
   "source": [
    "import pandas as pd# импорт библиотеки pandas"
   ]
  },
  {
   "cell_type": "markdown",
   "metadata": {
    "id": "SG23P8tt_Zcs"
   },
   "source": [
    "Прочитайте файл `yandex_music_project.csv` из папки `/datasets` и сохраните его в переменной `df`:"
   ]
  },
  {
   "cell_type": "code",
   "execution_count": 4,
   "metadata": {
    "id": "fFVu7vqh_Zct"
   },
   "outputs": [],
   "source": [
    "df = pd.read_csv('/datasets/yandex_music_project.csv')# чтение файла с данными и сохранение в df"
   ]
  },
  {
   "cell_type": "markdown",
   "metadata": {
    "id": "rDoOMd3uTqnZ"
   },
   "source": [
    "Выведите на экран первые десять строк таблицы:"
   ]
  },
  {
   "cell_type": "code",
   "execution_count": 5,
   "metadata": {
    "id": "oWTVX3gW_Zct"
   },
   "outputs": [
    {
     "data": {
      "text/html": [
       "<div>\n",
       "<style scoped>\n",
       "    .dataframe tbody tr th:only-of-type {\n",
       "        vertical-align: middle;\n",
       "    }\n",
       "\n",
       "    .dataframe tbody tr th {\n",
       "        vertical-align: top;\n",
       "    }\n",
       "\n",
       "    .dataframe thead th {\n",
       "        text-align: right;\n",
       "    }\n",
       "</style>\n",
       "<table border=\"1\" class=\"dataframe\">\n",
       "  <thead>\n",
       "    <tr style=\"text-align: right;\">\n",
       "      <th></th>\n",
       "      <th>userID</th>\n",
       "      <th>Track</th>\n",
       "      <th>artist</th>\n",
       "      <th>genre</th>\n",
       "      <th>City</th>\n",
       "      <th>time</th>\n",
       "      <th>Day</th>\n",
       "    </tr>\n",
       "  </thead>\n",
       "  <tbody>\n",
       "    <tr>\n",
       "      <th>0</th>\n",
       "      <td>FFB692EC</td>\n",
       "      <td>Kamigata To Boots</td>\n",
       "      <td>The Mass Missile</td>\n",
       "      <td>rock</td>\n",
       "      <td>Saint-Petersburg</td>\n",
       "      <td>20:28:33</td>\n",
       "      <td>Wednesday</td>\n",
       "    </tr>\n",
       "    <tr>\n",
       "      <th>1</th>\n",
       "      <td>55204538</td>\n",
       "      <td>Delayed Because of Accident</td>\n",
       "      <td>Andreas Rönnberg</td>\n",
       "      <td>rock</td>\n",
       "      <td>Moscow</td>\n",
       "      <td>14:07:09</td>\n",
       "      <td>Friday</td>\n",
       "    </tr>\n",
       "    <tr>\n",
       "      <th>2</th>\n",
       "      <td>20EC38</td>\n",
       "      <td>Funiculì funiculà</td>\n",
       "      <td>Mario Lanza</td>\n",
       "      <td>pop</td>\n",
       "      <td>Saint-Petersburg</td>\n",
       "      <td>20:58:07</td>\n",
       "      <td>Wednesday</td>\n",
       "    </tr>\n",
       "    <tr>\n",
       "      <th>3</th>\n",
       "      <td>A3DD03C9</td>\n",
       "      <td>Dragons in the Sunset</td>\n",
       "      <td>Fire + Ice</td>\n",
       "      <td>folk</td>\n",
       "      <td>Saint-Petersburg</td>\n",
       "      <td>08:37:09</td>\n",
       "      <td>Monday</td>\n",
       "    </tr>\n",
       "    <tr>\n",
       "      <th>4</th>\n",
       "      <td>E2DC1FAE</td>\n",
       "      <td>Soul People</td>\n",
       "      <td>Space Echo</td>\n",
       "      <td>dance</td>\n",
       "      <td>Moscow</td>\n",
       "      <td>08:34:34</td>\n",
       "      <td>Monday</td>\n",
       "    </tr>\n",
       "    <tr>\n",
       "      <th>5</th>\n",
       "      <td>842029A1</td>\n",
       "      <td>Преданная</td>\n",
       "      <td>IMPERVTOR</td>\n",
       "      <td>rusrap</td>\n",
       "      <td>Saint-Petersburg</td>\n",
       "      <td>13:09:41</td>\n",
       "      <td>Friday</td>\n",
       "    </tr>\n",
       "    <tr>\n",
       "      <th>6</th>\n",
       "      <td>4CB90AA5</td>\n",
       "      <td>True</td>\n",
       "      <td>Roman Messer</td>\n",
       "      <td>dance</td>\n",
       "      <td>Moscow</td>\n",
       "      <td>13:00:07</td>\n",
       "      <td>Wednesday</td>\n",
       "    </tr>\n",
       "    <tr>\n",
       "      <th>7</th>\n",
       "      <td>F03E1C1F</td>\n",
       "      <td>Feeling This Way</td>\n",
       "      <td>Polina Griffith</td>\n",
       "      <td>dance</td>\n",
       "      <td>Moscow</td>\n",
       "      <td>20:47:49</td>\n",
       "      <td>Wednesday</td>\n",
       "    </tr>\n",
       "    <tr>\n",
       "      <th>8</th>\n",
       "      <td>8FA1D3BE</td>\n",
       "      <td>И вновь продолжается бой</td>\n",
       "      <td>NaN</td>\n",
       "      <td>ruspop</td>\n",
       "      <td>Moscow</td>\n",
       "      <td>09:17:40</td>\n",
       "      <td>Friday</td>\n",
       "    </tr>\n",
       "    <tr>\n",
       "      <th>9</th>\n",
       "      <td>E772D5C0</td>\n",
       "      <td>Pessimist</td>\n",
       "      <td>NaN</td>\n",
       "      <td>dance</td>\n",
       "      <td>Saint-Petersburg</td>\n",
       "      <td>21:20:49</td>\n",
       "      <td>Wednesday</td>\n",
       "    </tr>\n",
       "  </tbody>\n",
       "</table>\n",
       "</div>"
      ],
      "text/plain": [
       "     userID                        Track            artist   genre  \\\n",
       "0  FFB692EC            Kamigata To Boots  The Mass Missile    rock   \n",
       "1  55204538  Delayed Because of Accident  Andreas Rönnberg    rock   \n",
       "2    20EC38            Funiculì funiculà       Mario Lanza     pop   \n",
       "3  A3DD03C9        Dragons in the Sunset        Fire + Ice    folk   \n",
       "4  E2DC1FAE                  Soul People        Space Echo   dance   \n",
       "5  842029A1                    Преданная         IMPERVTOR  rusrap   \n",
       "6  4CB90AA5                         True      Roman Messer   dance   \n",
       "7  F03E1C1F             Feeling This Way   Polina Griffith   dance   \n",
       "8  8FA1D3BE     И вновь продолжается бой               NaN  ruspop   \n",
       "9  E772D5C0                    Pessimist               NaN   dance   \n",
       "\n",
       "             City        time        Day  \n",
       "0  Saint-Petersburg  20:28:33  Wednesday  \n",
       "1            Moscow  14:07:09     Friday  \n",
       "2  Saint-Petersburg  20:58:07  Wednesday  \n",
       "3  Saint-Petersburg  08:37:09     Monday  \n",
       "4            Moscow  08:34:34     Monday  \n",
       "5  Saint-Petersburg  13:09:41     Friday  \n",
       "6            Moscow  13:00:07  Wednesday  \n",
       "7            Moscow  20:47:49  Wednesday  \n",
       "8            Moscow  09:17:40     Friday  \n",
       "9  Saint-Petersburg  21:20:49  Wednesday  "
      ]
     },
     "execution_count": 5,
     "metadata": {},
     "output_type": "execute_result"
    }
   ],
   "source": [
    "df.head(10)# получение первых 10 строк таблицы df"
   ]
  },
  {
   "cell_type": "markdown",
   "metadata": {
    "id": "EO73Kwic_Zct"
   },
   "source": [
    "Одной командой получить общую информацию о таблице:"
   ]
  },
  {
   "cell_type": "code",
   "execution_count": 6,
   "metadata": {
    "id": "DSf2kIb-_Zct"
   },
   "outputs": [
    {
     "name": "stdout",
     "output_type": "stream",
     "text": [
      "<class 'pandas.core.frame.DataFrame'>\n",
      "RangeIndex: 65079 entries, 0 to 65078\n",
      "Data columns (total 7 columns):\n",
      " #   Column    Non-Null Count  Dtype \n",
      "---  ------    --------------  ----- \n",
      " 0     userID  65079 non-null  object\n",
      " 1   Track     63848 non-null  object\n",
      " 2   artist    57876 non-null  object\n",
      " 3   genre     63881 non-null  object\n",
      " 4     City    65079 non-null  object\n",
      " 5   time      65079 non-null  object\n",
      " 6   Day       65079 non-null  object\n",
      "dtypes: object(7)\n",
      "memory usage: 3.5+ MB\n"
     ]
    }
   ],
   "source": [
    "df.info()# получение общей информации о данных в таблице df"
   ]
  },
  {
   "cell_type": "markdown",
   "metadata": {
    "id": "TaQ2Iwbr_Zct"
   },
   "source": [
    "Итак, в таблице семь столбцов. Тип данных во всех столбцах — `object`.\n",
    "\n",
    "Согласно документации к данным:\n",
    "* `userID` — идентификатор пользователя;\n",
    "* `Track` — название трека;  \n",
    "* `artist` — имя исполнителя;\n",
    "* `genre` — название жанра;\n",
    "* `City` — город пользователя;\n",
    "* `time` — время начала прослушивания;\n",
    "* `Day` — день недели.\n",
    "\n",
    "В названиях колонок видны три нарушения стиля:\n",
    "1. Строчные буквы сочетаются с прописными.\n",
    "2. Встречаются пробелы.\n",
    "3. Найдите ещё одну проблему в названии колонок и опишите её в этом пункте.\n",
    "\n",
    "\n",
    "\n",
    "Количество значений в столбцах различается. Значит, в данных есть пропущенные значения.\n"
   ]
  },
  {
   "cell_type": "markdown",
   "metadata": {
    "id": "MCB6-dXG_Zct"
   },
   "source": [
    "**Выводы**\n",
    "\n",
    "В каждой строке таблицы — данные о прослушанном треке. Часть колонок описывает саму композицию: название, исполнителя и жанр. Остальные данные рассказывают о пользователе: из какого он города, когда он слушал музыку. \n",
    "\n",
    "Предварительно можно утверждать, что, данных достаточно для проверки гипотез. Но встречаются пропуски в данных, а в названиях колонок — расхождения с хорошим стилем.\n",
    "\n",
    "Чтобы двигаться дальше, нужно устранить проблемы в данных."
   ]
  },
  {
   "cell_type": "markdown",
   "metadata": {
    "id": "SjYF6Ub9_Zct"
   },
   "source": [
    "## Предобработка данных\n",
    "Исправьте стиль в заголовках столбцов, исключите пропуски. Затем проверьте данные на дубликаты."
   ]
  },
  {
   "cell_type": "markdown",
   "metadata": {
    "id": "dIaKXr29_Zct"
   },
   "source": [
    "### Стиль заголовков\n",
    "Выведите на экран названия столбцов:"
   ]
  },
  {
   "cell_type": "code",
   "execution_count": 7,
   "metadata": {
    "id": "oKOTdF_Q_Zct"
   },
   "outputs": [
    {
     "name": "stdout",
     "output_type": "stream",
     "text": [
      "Index(['  userID', 'Track', 'artist', 'genre', '  City  ', 'time', 'Day'], dtype='object')\n"
     ]
    }
   ],
   "source": [
    "print(df.columns)# перечень названй столбцов таблицы df"
   ]
  },
  {
   "cell_type": "markdown",
   "metadata": {
    "id": "FPZA3ki8xe7T"
   },
   "source": []
  },
  {
   "cell_type": "markdown",
   "metadata": {
    "id": "zj5534cv_Zct"
   },
   "source": [
    "Приведите названия в соответствие с хорошим стилем:\n",
    "* несколько слов в названии запишите в «змеином_регистре»,\n",
    "* все символы сделайте строчными,\n",
    "* устраните пробелы.\n",
    "\n",
    "Для этого переименуйте колонки так:\n",
    "* `'  userID'` → `'user_id'`;\n",
    "* `'Track'` → `'track'`;\n",
    "* `'  City  '` → `'city'`;\n",
    "* `'Day'` → `'day'`."
   ]
  },
  {
   "cell_type": "code",
   "execution_count": 8,
   "metadata": {
    "id": "ISlFqs5y_Zct"
   },
   "outputs": [],
   "source": [
    "df = df.rename(columns={'  userID': 'user_id', 'Track': 'track', '  City  ': 'city', 'Day':'day'})# переименование столбцов"
   ]
  },
  {
   "cell_type": "markdown",
   "metadata": {
    "id": "1dqbh00J_Zct"
   },
   "source": [
    "Проверьте результат. Для этого ещё раз выведите на экран названия столбцов:"
   ]
  },
  {
   "cell_type": "code",
   "execution_count": 9,
   "metadata": {
    "id": "d4NOAmTW_Zct"
   },
   "outputs": [
    {
     "name": "stdout",
     "output_type": "stream",
     "text": [
      "Index(['user_id', 'track', 'artist', 'genre', 'city', 'time', 'day'], dtype='object')\n"
     ]
    }
   ],
   "source": [
    "print(df.columns)# проверка результатов - перечень названий столбцо"
   ]
  },
  {
   "cell_type": "markdown",
   "metadata": {
    "id": "5ISfbcfY_Zct"
   },
   "source": [
    "### Пропуски значений\n",
    "Сначала посчитайте, сколько в таблице пропущенных значений. Для этого достаточно двух методов `pandas`:"
   ]
  },
  {
   "cell_type": "code",
   "execution_count": 10,
   "metadata": {
    "id": "RskX29qr_Zct"
   },
   "outputs": [
    {
     "data": {
      "text/plain": [
       "user_id       0\n",
       "track      1231\n",
       "artist     7203\n",
       "genre      1198\n",
       "city          0\n",
       "time          0\n",
       "day           0\n",
       "dtype: int64"
      ]
     },
     "execution_count": 10,
     "metadata": {},
     "output_type": "execute_result"
    }
   ],
   "source": [
    "df.isnull().sum()# подсчёт пропусков\n",
    "\n"
   ]
  },
  {
   "cell_type": "markdown",
   "metadata": {
    "id": "qubhgnlO_Zct"
   },
   "source": [
    "Не все пропущенные значения влияют на исследование. Так в `track` и `artist` пропуски не важны для вашей работы. Достаточно заменить их явными обозначениями.\n",
    "\n",
    "Но пропуски в `genre` могут помешать сравнению музыкальных вкусов в Москве и Санкт-Петербурге. На практике было бы правильно установить причину пропусков и восстановить данные. Такой возможности нет в учебном проекте. Придётся:\n",
    "* заполнить и эти пропуски явными обозначениями,\n",
    "* оценить, насколько они повредят расчётам. "
   ]
  },
  {
   "cell_type": "markdown",
   "metadata": {
    "id": "fSv2laPA_Zct"
   },
   "source": [
    "Замените пропущенные значения в столбцах `track`, `artist` и `genre` на строку `'unknown'`. Для этого создайте список `columns_to_replace`, переберите его элементы циклом `for` и для каждого столбца выполните замену пропущенных значений:"
   ]
  },
  {
   "cell_type": "code",
   "execution_count": 11,
   "metadata": {
    "id": "KplB5qWs_Zct"
   },
   "outputs": [],
   "source": [
    "columns_to_replace = ['track', 'artist', 'genre']\n",
    "for column in columns_to_replace:\n",
    "     df[column] = df[column].fillna('unknown')# перебор названий столбцов в цикле и замена пропущенных значений на 'unknown'"
   ]
  },
  {
   "cell_type": "markdown",
   "metadata": {
    "id": "Ilsm-MZo_Zct"
   },
   "source": [
    "Убедитесь, что в таблице не осталось пропусков. Для этого ещё раз посчитайте пропущенные значения."
   ]
  },
  {
   "cell_type": "code",
   "execution_count": 12,
   "metadata": {
    "id": "Tq4nYRX4_Zct"
   },
   "outputs": [
    {
     "data": {
      "text/plain": [
       "user_id    0\n",
       "track      0\n",
       "artist     0\n",
       "genre      0\n",
       "city       0\n",
       "time       0\n",
       "day        0\n",
       "dtype: int64"
      ]
     },
     "execution_count": 12,
     "metadata": {},
     "output_type": "execute_result"
    }
   ],
   "source": [
    "df.isnull().sum()# подсчёт пропусков"
   ]
  },
  {
   "cell_type": "markdown",
   "metadata": {
    "id": "BWKRtBJ3_Zct"
   },
   "source": [
    "### Дубликаты\n",
    "Посчитайте явные дубликаты в таблице одной командой:"
   ]
  },
  {
   "cell_type": "code",
   "execution_count": 13,
   "metadata": {
    "id": "36eES_S0_Zct"
   },
   "outputs": [
    {
     "name": "stdout",
     "output_type": "stream",
     "text": [
      "3826\n"
     ]
    }
   ],
   "source": [
    "print(df.duplicated().sum())# подсчёт явных дубликатов"
   ]
  },
  {
   "cell_type": "markdown",
   "metadata": {
    "id": "Ot25h6XR_Zct"
   },
   "source": [
    "Вызовите специальный метод `pandas`, чтобы удалить явные дубликаты:"
   ]
  },
  {
   "cell_type": "code",
   "execution_count": 14,
   "metadata": {
    "id": "exFHq6tt_Zct"
   },
   "outputs": [],
   "source": [
    "df = df.drop_duplicates().reset_index(drop=True)# удаление явных дубликатов (с удалением старых индексов и формированием новых)"
   ]
  },
  {
   "cell_type": "markdown",
   "metadata": {
    "id": "Im2YwBEG_Zct"
   },
   "source": [
    "Ещё раз посчитайте явные дубликаты в таблице — убедитесь, что полностью от них избавились:"
   ]
  },
  {
   "cell_type": "code",
   "execution_count": 15,
   "metadata": {
    "id": "-8PuNWQ0_Zct"
   },
   "outputs": [
    {
     "name": "stdout",
     "output_type": "stream",
     "text": [
      "0\n"
     ]
    }
   ],
   "source": [
    "print(df.duplicated().sum())# проверка на отсутствие дубликатов"
   ]
  },
  {
   "cell_type": "markdown",
   "metadata": {
    "id": "QlFBsxAr_Zct"
   },
   "source": [
    "Теперь избавьтесь от неявных дубликатов в колонке `genre`. Например, название одного и того же жанра может быть записано немного по-разному. Такие ошибки тоже повлияют на результат исследования."
   ]
  },
  {
   "cell_type": "markdown",
   "metadata": {
    "id": "eSjWwsOh_Zct"
   },
   "source": [
    "Выведите на экран список уникальных названий жанров, отсортированный в алфавитном порядке. Для этого:\n",
    "* извлеките нужный столбец датафрейма, \n",
    "* примените к нему метод сортировки,\n",
    "* для отсортированного столбца вызовите метод, который вернёт уникальные значения из столбца."
   ]
  },
  {
   "cell_type": "code",
   "execution_count": 16,
   "metadata": {
    "id": "JIUcqzZN_Zct"
   },
   "outputs": [
    {
     "name": "stdout",
     "output_type": "stream",
     "text": [
      "['rock' 'pop' 'folk' 'dance' 'rusrap' 'ruspop' 'world' 'electronic'\n",
      " 'unknown' 'alternative' 'children' 'rnb' 'hip' 'jazz' 'postrock' 'latin'\n",
      " 'classical' 'metal' 'reggae' 'tatar' 'blues' 'instrumental' 'rusrock'\n",
      " 'dnb' 'türk' 'post' 'country' 'psychedelic' 'conjazz' 'indie'\n",
      " 'posthardcore' 'local' 'avantgarde' 'punk' 'videogame' 'techno' 'house'\n",
      " 'christmas' 'melodic' 'caucasian' 'reggaeton' 'soundtrack' 'singer' 'ska'\n",
      " 'shanson' 'ambient' 'film' 'western' 'rap' 'beats' \"hard'n'heavy\"\n",
      " 'progmetal' 'minimal' 'contemporary' 'new' 'soul' 'holiday' 'german'\n",
      " 'tropical' 'fairytail' 'spiritual' 'urban' 'gospel' 'nujazz' 'folkmetal'\n",
      " 'trance' 'miscellaneous' 'anime' 'hardcore' 'progressive' 'chanson'\n",
      " 'numetal' 'vocal' 'estrada' 'russian' 'classicmetal' 'dubstep' 'club'\n",
      " 'deep' 'southern' 'black' 'folkrock' 'fitness' 'french' 'disco'\n",
      " 'religious' 'hiphop' 'drum' 'extrememetal' 'türkçe' 'experimental' 'easy'\n",
      " 'metalcore' 'modern' 'argentinetango' 'old' 'breaks' 'eurofolk'\n",
      " 'stonerrock' 'industrial' 'funk' 'jpop' 'middle' 'variété' 'other'\n",
      " 'adult' 'christian' 'gothic' 'international' 'muslim' 'relax' 'schlager'\n",
      " 'caribbean' 'ukrrock' 'nu' 'breakbeat' 'comedy' 'chill' 'newage'\n",
      " 'specialty' 'uzbek' 'k-pop' 'balkan' 'chinese' 'meditative' 'dub' 'power'\n",
      " 'death' 'grime' 'arabesk' 'romance' 'flamenco' 'leftfield' 'european'\n",
      " 'tech' 'newwave' 'dancehall' 'mpb' 'piano' 'top' 'bigroom' 'opera'\n",
      " 'celtic' 'tradjazz' 'acoustic' 'epicmetal' 'hip-hop' 'historisch'\n",
      " 'downbeat' 'downtempo' 'africa' 'audiobook' 'jewish' 'sängerportrait'\n",
      " 'deutschrock' 'eastern' 'action' 'future' 'electropop' 'folklore'\n",
      " 'bollywood' 'marschmusik' 'rnr' 'karaoke' 'indian' 'rancheras'\n",
      " 'электроника' 'afrikaans' 'tango' 'rhythm' 'sound' 'deutschspr' 'trip'\n",
      " 'lovers' 'choral' 'dancepop' 'podcasts' 'retro' 'smooth' 'mexican'\n",
      " 'brazilian' 'ïîï' 'mood' 'surf' 'author' 'gangsta' 'triphop'\n",
      " 'inspirational' 'idm' 'ethnic' 'bluegrass' 'broadway' 'animated'\n",
      " 'americana' 'karadeniz' 'rockabilly' 'colombian' 'self' 'hop' 'synthrock'\n",
      " 'sertanejo' 'japanese' 'canzone' 'swing' 'lounge' 'sport' 'korean'\n",
      " 'ragga' 'traditional' 'gitarre' 'frankreich' 'alternativepunk' 'emo'\n",
      " 'laiko' 'cantopop' 'glitch' 'documentary' 'rockalternative' 'thrash'\n",
      " 'hymn' 'oceania' 'rockother' 'popeurodance' 'dark' 'vi' 'grunge'\n",
      " 'hardstyle' 'samba' 'garage' 'soft' 'art' 'folktronica' 'entehno'\n",
      " 'mediterranean' 'chamber' 'cuban' 'taraftar' 'rockindie' 'gypsy'\n",
      " 'hardtechno' 'shoegazing' 'skarock' 'bossa' 'salsa' 'latino' 'worldbeat'\n",
      " 'malaysian' 'baile' 'ghazal' 'loungeelectronic' 'arabic' 'popelectronic'\n",
      " 'acid' 'kayokyoku' 'neoklassik' 'tribal' 'tanzorchester' 'native'\n",
      " 'independent' 'cantautori' 'handsup' 'poprussian' 'punjabi' 'synthpop'\n",
      " 'rave' 'französisch' 'quebecois' 'speech' 'soulful' 'teen' 'jam' 'ram'\n",
      " 'horror' 'scenic' 'orchestral' 'neue' 'roots' 'slow' 'jungle' 'indipop'\n",
      " 'axé' 'fado' 'showtunes' 'arena' 'irish' 'mandopop' 'forró' 'popdance'\n",
      " 'dirty' 'regional']\n",
      "acid, acoustic, action, adult, africa, afrikaans, alternative, alternativepunk, ambient, americana, animated, anime, arabesk, arabic, arena, argentinetango, art, audiobook, author, avantgarde, axé, baile, balkan, beats, bigroom, black, bluegrass, blues, bollywood, bossa, brazilian, breakbeat, breaks, broadway, cantautori, cantopop, canzone, caribbean, caucasian, celtic, chamber, chanson, children, chill, chinese, choral, christian, christmas, classical, classicmetal, club, colombian, comedy, conjazz, contemporary, country, cuban, dance, dancehall, dancepop, dark, death, deep, deutschrock, deutschspr, dirty, disco, dnb, documentary, downbeat, downtempo, drum, dub, dubstep, eastern, easy, electronic, electropop, emo, entehno, epicmetal, estrada, ethnic, eurofolk, european, experimental, extrememetal, fado, fairytail, film, fitness, flamenco, folk, folklore, folkmetal, folkrock, folktronica, forró, frankreich, französisch, french, funk, future, gangsta, garage, german, ghazal, gitarre, glitch, gospel, gothic, grime, grunge, gypsy, handsup, hard'n'heavy, hardcore, hardstyle, hardtechno, hip, hip-hop, hiphop, historisch, holiday, hop, horror, house, hymn, idm, independent, indian, indie, indipop, industrial, inspirational, instrumental, international, irish, jam, japanese, jazz, jewish, jpop, jungle, k-pop, karadeniz, karaoke, kayokyoku, korean, laiko, latin, latino, leftfield, local, lounge, loungeelectronic, lovers, malaysian, mandopop, marschmusik, meditative, mediterranean, melodic, metal, metalcore, mexican, middle, minimal, miscellaneous, modern, mood, mpb, muslim, native, neoklassik, neue, new, newage, newwave, nu, nujazz, numetal, oceania, old, opera, orchestral, other, piano, podcasts, pop, popdance, popelectronic, popeurodance, poprussian, post, posthardcore, postrock, power, progmetal, progressive, psychedelic, punjabi, punk, quebecois, ragga, ram, rancheras, rap, rave, reggae, reggaeton, regional, relax, religious, retro, rhythm, rnb, rnr, rock, rockabilly, rockalternative, rockindie, rockother, romance, roots, ruspop, rusrap, rusrock, russian, salsa, samba, scenic, schlager, self, sertanejo, shanson, shoegazing, showtunes, singer, ska, skarock, slow, smooth, soft, soul, soulful, sound, soundtrack, southern, specialty, speech, spiritual, sport, stonerrock, surf, swing, synthpop, synthrock, sängerportrait, tango, tanzorchester, taraftar, tatar, tech, techno, teen, thrash, top, traditional, tradjazz, trance, tribal, trip, triphop, tropical, türk, türkçe, ukrrock, unknown, urban, uzbek, variété, vi, videogame, vocal, western, world, worldbeat, ïîï, электроника, ['acid', 'acoustic', 'action', 'adult', 'africa', 'afrikaans', 'alternative', 'alternativepunk', 'ambient', 'americana', 'animated', 'anime', 'arabesk', 'arabic', 'arena', 'argentinetango', 'art', 'audiobook', 'author', 'avantgarde', 'axé', 'baile', 'balkan', 'beats', 'bigroom', 'black', 'bluegrass', 'blues', 'bollywood', 'bossa', 'brazilian', 'breakbeat', 'breaks', 'broadway', 'cantautori', 'cantopop', 'canzone', 'caribbean', 'caucasian', 'celtic', 'chamber', 'chanson', 'children', 'chill', 'chinese', 'choral', 'christian', 'christmas', 'classical', 'classicmetal', 'club', 'colombian', 'comedy', 'conjazz', 'contemporary', 'country', 'cuban', 'dance', 'dancehall', 'dancepop', 'dark', 'death', 'deep', 'deutschrock', 'deutschspr', 'dirty', 'disco', 'dnb', 'documentary', 'downbeat', 'downtempo', 'drum', 'dub', 'dubstep', 'eastern', 'easy', 'electronic', 'electropop', 'emo', 'entehno', 'epicmetal', 'estrada', 'ethnic', 'eurofolk', 'european', 'experimental', 'extrememetal', 'fado', 'fairytail', 'film', 'fitness', 'flamenco', 'folk', 'folklore', 'folkmetal', 'folkrock', 'folktronica', 'forró', 'frankreich', 'französisch', 'french', 'funk', 'future', 'gangsta', 'garage', 'german', 'ghazal', 'gitarre', 'glitch', 'gospel', 'gothic', 'grime', 'grunge', 'gypsy', 'handsup', \"hard'n'heavy\", 'hardcore', 'hardstyle', 'hardtechno', 'hip', 'hip-hop', 'hiphop', 'historisch', 'holiday', 'hop', 'horror', 'house', 'hymn', 'idm', 'independent', 'indian', 'indie', 'indipop', 'industrial', 'inspirational', 'instrumental', 'international', 'irish', 'jam', 'japanese', 'jazz', 'jewish', 'jpop', 'jungle', 'k-pop', 'karadeniz', 'karaoke', 'kayokyoku', 'korean', 'laiko', 'latin', 'latino', 'leftfield', 'local', 'lounge', 'loungeelectronic', 'lovers', 'malaysian', 'mandopop', 'marschmusik', 'meditative', 'mediterranean', 'melodic', 'metal', 'metalcore', 'mexican', 'middle', 'minimal', 'miscellaneous', 'modern', 'mood', 'mpb', 'muslim', 'native', 'neoklassik', 'neue', 'new', 'newage', 'newwave', 'nu', 'nujazz', 'numetal', 'oceania', 'old', 'opera', 'orchestral', 'other', 'piano', 'podcasts', 'pop', 'popdance', 'popelectronic', 'popeurodance', 'poprussian', 'post', 'posthardcore', 'postrock', 'power', 'progmetal', 'progressive', 'psychedelic', 'punjabi', 'punk', 'quebecois', 'ragga', 'ram', 'rancheras', 'rap', 'rave', 'reggae', 'reggaeton', 'regional', 'relax', 'religious', 'retro', 'rhythm', 'rnb', 'rnr', 'rock', 'rockabilly', 'rockalternative', 'rockindie', 'rockother', 'romance', 'roots', 'ruspop', 'rusrap', 'rusrock', 'russian', 'salsa', 'samba', 'scenic', 'schlager', 'self', 'sertanejo', 'shanson', 'shoegazing', 'showtunes', 'singer', 'ska', 'skarock', 'slow', 'smooth', 'soft', 'soul', 'soulful', 'sound', 'soundtrack', 'southern', 'specialty', 'speech', 'spiritual', 'sport', 'stonerrock', 'surf', 'swing', 'synthpop', 'synthrock', 'sängerportrait', 'tango', 'tanzorchester', 'taraftar', 'tatar', 'tech', 'techno', 'teen', 'thrash', 'top', 'traditional', 'tradjazz', 'trance', 'tribal', 'trip', 'triphop', 'tropical', 'türk', 'türkçe', 'ukrrock', 'unknown', 'urban', 'uzbek', 'variété', 'vi', 'videogame', 'vocal', 'western', 'world', 'worldbeat', 'ïîï', 'электроника']\n"
     ]
    }
   ],
   "source": [
    "print(df['genre'].unique())\n",
    "genre_unique = sorted(df['genre'].unique())\n",
    "for genre in genre_unique:\n",
    "    print(genre, end = ', ')\n",
    "print(genre_unique)# Просмотр уникальных названий жанров    "
   ]
  },
  {
   "cell_type": "markdown",
   "metadata": {
    "id": "qej-Qmuo_Zct"
   },
   "source": [
    "Просмотрите список и найдите неявные дубликаты названия `hiphop`. Это могут быть названия с ошибками или альтернативные названия того же жанра.\n",
    "\n",
    "Вы увидите следующие неявные дубликаты:\n",
    "* *hip*,\n",
    "* *hop*,\n",
    "* *hip-hop*.\n",
    "\n",
    "Чтобы очистить от них таблицу, напишите функцию `replace_wrong_genres()` с двумя параметрами: \n",
    "* `wrong_genres` — список дубликатов,\n",
    "* `correct_genre` — строка с правильным значением.\n",
    "\n",
    "Функция должна исправить колонку `genre` в таблице `df`: заменить каждое значение из списка `wrong_genres` на значение из `correct_genre`."
   ]
  },
  {
   "cell_type": "code",
   "execution_count": 17,
   "metadata": {
    "id": "ErNDkmns_Zct"
   },
   "outputs": [],
   "source": [
    "def replace_wrong_genres(wrong_genres, correct_genre):\n",
    "    for wrong_genre in wrong_genres:\n",
    "        df['genre'] = df['genre'].replace(wrong_genre, correct_genre)# Функция для замены неявных дубликатов"
   ]
  },
  {
   "cell_type": "markdown",
   "metadata": {
    "id": "aDoBJxbA_Zct"
   },
   "source": [
    "Вызовите `replace_wrong_genres()` и передайте ей такие аргументы, чтобы она устранила неявные дубликаты: вместо `hip`, `hop` и `hip-hop` в таблице должно быть значение `hiphop`:"
   ]
  },
  {
   "cell_type": "code",
   "execution_count": 18,
   "metadata": {
    "id": "YN5i2hpmSo09"
   },
   "outputs": [],
   "source": [
    "duplicates = ['hip', 'hop', 'hip-hop']\n",
    "name = 'hiphop'\n",
    "replace_wrong_genres(duplicates, name)\n",
    "# Устранение неявных дубликатов"
   ]
  },
  {
   "cell_type": "markdown",
   "metadata": {
    "id": "zQKF16_RG15m"
   },
   "source": [
    "Проверьте, что заменили неправильные названия:\n",
    "\n",
    "*   hip\n",
    "*   hop\n",
    "*   hip-hop\n",
    "\n",
    "Выведите отсортированный список уникальных значений столбца `genre`:"
   ]
  },
  {
   "cell_type": "code",
   "execution_count": 19,
   "metadata": {
    "id": "wvixALnFG15m"
   },
   "outputs": [
    {
     "name": "stdout",
     "output_type": "stream",
     "text": [
      "['acid', 'acoustic', 'action', 'adult', 'africa', 'afrikaans', 'alternative', 'alternativepunk', 'ambient', 'americana', 'animated', 'anime', 'arabesk', 'arabic', 'arena', 'argentinetango', 'art', 'audiobook', 'author', 'avantgarde', 'axé', 'baile', 'balkan', 'beats', 'bigroom', 'black', 'bluegrass', 'blues', 'bollywood', 'bossa', 'brazilian', 'breakbeat', 'breaks', 'broadway', 'cantautori', 'cantopop', 'canzone', 'caribbean', 'caucasian', 'celtic', 'chamber', 'chanson', 'children', 'chill', 'chinese', 'choral', 'christian', 'christmas', 'classical', 'classicmetal', 'club', 'colombian', 'comedy', 'conjazz', 'contemporary', 'country', 'cuban', 'dance', 'dancehall', 'dancepop', 'dark', 'death', 'deep', 'deutschrock', 'deutschspr', 'dirty', 'disco', 'dnb', 'documentary', 'downbeat', 'downtempo', 'drum', 'dub', 'dubstep', 'eastern', 'easy', 'electronic', 'electropop', 'emo', 'entehno', 'epicmetal', 'estrada', 'ethnic', 'eurofolk', 'european', 'experimental', 'extrememetal', 'fado', 'fairytail', 'film', 'fitness', 'flamenco', 'folk', 'folklore', 'folkmetal', 'folkrock', 'folktronica', 'forró', 'frankreich', 'französisch', 'french', 'funk', 'future', 'gangsta', 'garage', 'german', 'ghazal', 'gitarre', 'glitch', 'gospel', 'gothic', 'grime', 'grunge', 'gypsy', 'handsup', \"hard'n'heavy\", 'hardcore', 'hardstyle', 'hardtechno', 'hiphop', 'historisch', 'holiday', 'horror', 'house', 'hymn', 'idm', 'independent', 'indian', 'indie', 'indipop', 'industrial', 'inspirational', 'instrumental', 'international', 'irish', 'jam', 'japanese', 'jazz', 'jewish', 'jpop', 'jungle', 'k-pop', 'karadeniz', 'karaoke', 'kayokyoku', 'korean', 'laiko', 'latin', 'latino', 'leftfield', 'local', 'lounge', 'loungeelectronic', 'lovers', 'malaysian', 'mandopop', 'marschmusik', 'meditative', 'mediterranean', 'melodic', 'metal', 'metalcore', 'mexican', 'middle', 'minimal', 'miscellaneous', 'modern', 'mood', 'mpb', 'muslim', 'native', 'neoklassik', 'neue', 'new', 'newage', 'newwave', 'nu', 'nujazz', 'numetal', 'oceania', 'old', 'opera', 'orchestral', 'other', 'piano', 'podcasts', 'pop', 'popdance', 'popelectronic', 'popeurodance', 'poprussian', 'post', 'posthardcore', 'postrock', 'power', 'progmetal', 'progressive', 'psychedelic', 'punjabi', 'punk', 'quebecois', 'ragga', 'ram', 'rancheras', 'rap', 'rave', 'reggae', 'reggaeton', 'regional', 'relax', 'religious', 'retro', 'rhythm', 'rnb', 'rnr', 'rock', 'rockabilly', 'rockalternative', 'rockindie', 'rockother', 'romance', 'roots', 'ruspop', 'rusrap', 'rusrock', 'russian', 'salsa', 'samba', 'scenic', 'schlager', 'self', 'sertanejo', 'shanson', 'shoegazing', 'showtunes', 'singer', 'ska', 'skarock', 'slow', 'smooth', 'soft', 'soul', 'soulful', 'sound', 'soundtrack', 'southern', 'specialty', 'speech', 'spiritual', 'sport', 'stonerrock', 'surf', 'swing', 'synthpop', 'synthrock', 'sängerportrait', 'tango', 'tanzorchester', 'taraftar', 'tatar', 'tech', 'techno', 'teen', 'thrash', 'top', 'traditional', 'tradjazz', 'trance', 'tribal', 'trip', 'triphop', 'tropical', 'türk', 'türkçe', 'ukrrock', 'unknown', 'urban', 'uzbek', 'variété', 'vi', 'videogame', 'vocal', 'western', 'world', 'worldbeat', 'ïîï', 'электроника']\n"
     ]
    }
   ],
   "source": [
    "genre_unique = sorted(df['genre'].unique())\n",
    "print(genre_unique)# Проверка на неявные дубликаты"
   ]
  },
  {
   "cell_type": "markdown",
   "metadata": {
    "id": "jz6a9-7HQUDd"
   },
   "source": [
    "**Выводы**\n",
    "\n",
    "Предобработка обнаружила три проблемы в данных:\n",
    "\n",
    "- нарушения в стиле заголовков,\n",
    "- пропущенные значения,\n",
    "- дубликаты — явные и неявные.\n",
    "\n",
    "Вы исправили заголовки, чтобы упростить работу с таблицей. Без дубликатов исследование станет более точным.\n",
    "\n",
    "Пропущенные значения вы заменили на `'unknown'`. Ещё предстоит увидеть, не повредят ли исследованию пропуски в колонке `genre`.\n",
    "\n",
    "Теперь можно перейти к проверке гипотез. "
   ]
  },
  {
   "cell_type": "markdown",
   "metadata": {
    "id": "WttZHXH0SqKk"
   },
   "source": [
    "## Проверка гипотез"
   ]
  },
  {
   "cell_type": "markdown",
   "metadata": {
    "id": "Im936VVi_Zcu"
   },
   "source": [
    "### Сравнение поведения пользователей двух столиц"
   ]
  },
  {
   "cell_type": "markdown",
   "metadata": {
    "id": "nwt_MuaL_Zcu"
   },
   "source": [
    "Первая гипотеза утверждает, что пользователи по-разному слушают музыку в Москве и Санкт-Петербурге. Проверьте это предположение по данным о трёх днях недели — понедельнике, среде и пятнице. Для этого:\n",
    "\n",
    "* Разделите пользователей Москвы и Санкт-Петербурга\n",
    "* Сравните, сколько треков послушала каждая группа пользователей в понедельник, среду и пятницу.\n"
   ]
  },
  {
   "cell_type": "markdown",
   "metadata": {
    "id": "8Dw_YMmT_Zcu"
   },
   "source": [
    "Для тренировки сначала выполните каждый из расчётов по отдельности. \n",
    "\n",
    "Оцените активность пользователей в каждом городе. Сгруппируйте данные по городу и посчитайте прослушивания в каждой группе.\n",
    "\n"
   ]
  },
  {
   "cell_type": "code",
   "execution_count": 20,
   "metadata": {
    "id": "0_Qs96oh_Zcu"
   },
   "outputs": [
    {
     "data": {
      "text/plain": [
       "city\n",
       "Moscow              42741\n",
       "Saint-Petersburg    18512\n",
       "Name: genre, dtype: int64"
      ]
     },
     "execution_count": 20,
     "metadata": {},
     "output_type": "execute_result"
    }
   ],
   "source": [
    "df.groupby('city')['genre'].count()# Подсчёт прослушиваний в каждом городе"
   ]
  },
  {
   "cell_type": "markdown",
   "metadata": {
    "id": "dzli3w8o_Zcu"
   },
   "source": [
    "В Москве прослушиваний больше, чем в Петербурге. Из этого не следует, что московские пользователи чаще слушают музыку. Просто самих пользователей в Москве больше.\n",
    "\n",
    "Теперь сгруппируйте данные по дню недели и подсчитайте прослушивания в понедельник, среду и пятницу. Учтите, что в данных есть информация о прослушиваниях только за эти дни.\n"
   ]
  },
  {
   "cell_type": "code",
   "execution_count": 21,
   "metadata": {
    "id": "uZMKjiJz_Zcu"
   },
   "outputs": [
    {
     "data": {
      "text/plain": [
       "day\n",
       "Friday       21840\n",
       "Monday       21354\n",
       "Wednesday    18059\n",
       "Name: genre, dtype: int64"
      ]
     },
     "execution_count": 21,
     "metadata": {},
     "output_type": "execute_result"
    }
   ],
   "source": [
    "df.groupby('day')['genre'].count()# Подсчёт прослушиваний в каждый из трёх дней"
   ]
  },
  {
   "cell_type": "markdown",
   "metadata": {
    "id": "cC2tNrlL_Zcu"
   },
   "source": [
    "В среднем пользователи из двух городов менее активны по средам. Но картина может измениться, если рассмотреть каждый город в отдельности."
   ]
  },
  {
   "cell_type": "markdown",
   "metadata": {
    "id": "POzs8bGa_Zcu"
   },
   "source": [
    "Вы видели, как работает группировка по городу и по дням недели. Теперь напишите функцию, которая объединит два эти расчёта.\n",
    "\n",
    "Создайте функцию `number_tracks()`, которая посчитает прослушивания для заданного дня и города. Ей понадобятся два параметра:\n",
    "* день недели,\n",
    "* название города.\n",
    "\n",
    "В функции сохраните в переменную строки исходной таблицы, у которых значение:\n",
    "  * в колонке `day` равно параметру `day`,\n",
    "  * в колонке `city` равно параметру `city`.\n",
    "\n",
    "Для этого примените последовательную фильтрацию с логической индексацией.\n",
    "\n",
    "Затем посчитайте значения в столбце `user_id` получившейся таблицы. Результат сохраните в новую переменную. Верните эту переменную из функции."
   ]
  },
  {
   "cell_type": "code",
   "execution_count": 22,
   "metadata": {
    "id": "Nz3GdQB1_Zcu"
   },
   "outputs": [],
   "source": [
    "def number_tracks(day, city):\n",
    "    track_list = df[df['city'] == city]\n",
    "    track_list = track_list[track_list['day'] == day]\n",
    "    track_list_count = track_list['user_id'].count()\n",
    "    return track_list_count\n"
   ]
  },
  {
   "cell_type": "markdown",
   "metadata": {
    "id": "ytf7xFrFJQ2r"
   },
   "source": [
    "Вызовите `number_tracks()` шесть раз, меняя значение параметров — так, чтобы получить данные для каждого города в каждый из трёх дней."
   ]
  },
  {
   "cell_type": "code",
   "execution_count": 23,
   "metadata": {
    "id": "rJcRATNQ_Zcu"
   },
   "outputs": [
    {
     "data": {
      "text/plain": [
       "15740"
      ]
     },
     "execution_count": 23,
     "metadata": {},
     "output_type": "execute_result"
    }
   ],
   "source": [
    "number_tracks('Monday', 'Moscow')# количество прослушиваний в Москве по понедельникам"
   ]
  },
  {
   "cell_type": "code",
   "execution_count": 24,
   "metadata": {
    "id": "hq_ncZ5T_Zcu"
   },
   "outputs": [
    {
     "data": {
      "text/plain": [
       "5614"
      ]
     },
     "execution_count": 24,
     "metadata": {},
     "output_type": "execute_result"
    }
   ],
   "source": [
    "number_tracks('Monday', 'Saint-Petersburg')# количпрослушиваний в Санкт-Петербурге по понедельникам"
   ]
  },
  {
   "cell_type": "code",
   "execution_count": 25,
   "metadata": {
    "id": "_NTy2VPU_Zcu"
   },
   "outputs": [
    {
     "data": {
      "text/plain": [
       "11056"
      ]
     },
     "execution_count": 25,
     "metadata": {},
     "output_type": "execute_result"
    }
   ],
   "source": [
    "number_tracks('Wednesday', 'Moscow')# количество прослушиваний в Москве по средам"
   ]
  },
  {
   "cell_type": "code",
   "execution_count": 26,
   "metadata": {
    "id": "j2y3TAwo_Zcu"
   },
   "outputs": [
    {
     "data": {
      "text/plain": [
       "7003"
      ]
     },
     "execution_count": 26,
     "metadata": {},
     "output_type": "execute_result"
    }
   ],
   "source": [
    "number_tracks('Wednesday', 'Saint-Petersburg')# количество прослушиваний в Санкт-Петербурге по средам"
   ]
  },
  {
   "cell_type": "code",
   "execution_count": 27,
   "metadata": {
    "id": "vYDw5u_K_Zcu"
   },
   "outputs": [
    {
     "data": {
      "text/plain": [
       "15945"
      ]
     },
     "execution_count": 27,
     "metadata": {},
     "output_type": "execute_result"
    }
   ],
   "source": [
    "number_tracks('Friday', 'Moscow')# количество прослушиваний в Москве по пятницам"
   ]
  },
  {
   "cell_type": "code",
   "execution_count": 28,
   "metadata": {
    "id": "8_yzFtW3_Zcu"
   },
   "outputs": [
    {
     "data": {
      "text/plain": [
       "5895"
      ]
     },
     "execution_count": 28,
     "metadata": {},
     "output_type": "execute_result"
    }
   ],
   "source": [
    "number_tracks('Friday', 'Saint-Petersburg')# количество прослушиваний в Санкт-Петербурге по пятницам"
   ]
  },
  {
   "cell_type": "markdown",
   "metadata": {
    "id": "7QXffbO-_Zcu"
   },
   "source": [
    "Создайте c помощью конструктора `pd.DataFrame` таблицу, где\n",
    "* названия колонок — `['city', 'monday', 'wednesday', 'friday']`;\n",
    "* данные — результаты, которые вы получили с помощью `number_tracks`."
   ]
  },
  {
   "cell_type": "code",
   "execution_count": 29,
   "metadata": {
    "id": "APAcLpOr_Zcu"
   },
   "outputs": [
    {
     "name": "stdout",
     "output_type": "stream",
     "text": [
      "               city  monday  wednesday  friday\n",
      "0            Moscow   15740      11056   15945\n",
      "1  Saint-Petersburg    5614       7003    5895\n"
     ]
    }
   ],
   "source": [
    "data = [['Moscow', 15740, 11056, 15945],\n",
    "       ['Saint-Petersburg', 5614, 7003, 5895]]\n",
    "columns = ['city', 'monday', 'wednesday', 'friday']\n",
    "table = pd.DataFrame(data = data, columns = columns)\n",
    "print(table)# Таблица с результатами"
   ]
  },
  {
   "cell_type": "markdown",
   "metadata": {
    "id": "-EgPIHYu_Zcu"
   },
   "source": [
    "**Выводы**\n",
    "\n",
    "Данные показывают разницу поведения пользователей:\n",
    "\n",
    "- В Москве пик прослушиваний приходится на понедельник и пятницу, а в среду заметен спад.\n",
    "- В Петербурге, наоборот, больше слушают музыку по средам. Активность в понедельник и пятницу здесь почти в равной мере уступает среде.\n",
    "\n",
    "Значит, данные говорят в пользу первой гипотезы."
   ]
  },
  {
   "cell_type": "markdown",
   "metadata": {
    "id": "atZAxtq4_Zcu"
   },
   "source": [
    "### Музыка в начале и в конце недели"
   ]
  },
  {
   "cell_type": "markdown",
   "metadata": {
    "id": "eXrQqXFH_Zcu"
   },
   "source": [
    "Согласно второй гипотезе, утром в понедельник в Москве преобладают одни жанры, а в Петербурге — другие. Так же и вечером пятницы преобладают разные жанры — в зависимости от города."
   ]
  },
  {
   "cell_type": "markdown",
   "metadata": {
    "id": "S8UcW6Hw_Zcu"
   },
   "source": [
    "Сохраните таблицы с данными в две переменные:\n",
    "* по Москве — в `moscow_general`;\n",
    "* по Санкт-Петербургу — в `spb_general`."
   ]
  },
  {
   "cell_type": "code",
   "execution_count": 30,
   "metadata": {
    "id": "qeaFfM_P_Zcu"
   },
   "outputs": [],
   "source": [
    "moscow_general = df[df['city'] == 'Moscow']\n",
    " "
   ]
  },
  {
   "cell_type": "code",
   "execution_count": 31,
   "metadata": {
    "id": "ORaVRKto_Zcu"
   },
   "outputs": [],
   "source": [
    "spb_general = df[df['city'] == 'Saint-Petersburg']\n"
   ]
  },
  {
   "cell_type": "markdown",
   "metadata": {
    "id": "MEJV-CX2_Zcu"
   },
   "source": [
    "Создайте функцию `genre_weekday()` с четырьмя параметрами:\n",
    "* таблица (датафрейм) с данными,\n",
    "* день недели,\n",
    "* начальная временная метка в формате 'hh:mm', \n",
    "* последняя временная метка в формате 'hh:mm'.\n",
    "\n",
    "Функция должна вернуть информацию о топ-10 жанров тех треков, которые прослушивали в указанный день, в промежутке между двумя отметками времени."
   ]
  },
  {
   "cell_type": "code",
   "execution_count": 41,
   "metadata": {
    "id": "laJT9BYl_Zcu"
   },
   "outputs": [],
   "source": [
    "def genre_weekday(table, day, time1, time2):\n",
    "    genre_df = pd.DataFrame()\n",
    "    genre_df = table[(table['day'] == day) &(table['time'] > time1) &(table['time'] < time2)]\n",
    "    genre_df_count = genre_df.groupby('genre')['user_id'].count()# количество прослушиваний в Москве по понедельникам\n",
    "    genre_df_sorted = genre_df_count.sort_values(ascending=False)\n",
    "    return genre_df_sorted[:10]   \n"
   ]
  },
  {
   "cell_type": "markdown",
   "metadata": {
    "id": "la2s2_PF_Zcu"
   },
   "source": [
    "Cравните результаты функции `genre_weekday()` для Москвы и Санкт-Петербурга в понедельник утром (с 7:00 до 11:00) и в пятницу вечером (с 17:00 до 23:00):"
   ]
  },
  {
   "cell_type": "code",
   "execution_count": 42,
   "metadata": {
    "id": "yz7itPUQ_Zcu"
   },
   "outputs": [
    {
     "data": {
      "text/plain": [
       "genre\n",
       "pop            781\n",
       "dance          549\n",
       "electronic     480\n",
       "rock           474\n",
       "hiphop         286\n",
       "ruspop         186\n",
       "world          181\n",
       "rusrap         175\n",
       "alternative    164\n",
       "unknown        161\n",
       "Name: user_id, dtype: int64"
      ]
     },
     "execution_count": 42,
     "metadata": {},
     "output_type": "execute_result"
    }
   ],
   "source": [
    "genre_weekday(moscow_general, 'Monday', '07:00', '11:00')\n"
   ]
  },
  {
   "cell_type": "code",
   "execution_count": 43,
   "metadata": {
    "id": "kwUcHPdy_Zcu"
   },
   "outputs": [
    {
     "data": {
      "text/plain": [
       "genre\n",
       "pop            218\n",
       "dance          182\n",
       "rock           162\n",
       "electronic     147\n",
       "hiphop          80\n",
       "ruspop          64\n",
       "alternative     58\n",
       "rusrap          55\n",
       "jazz            44\n",
       "classical       40\n",
       "Name: user_id, dtype: int64"
      ]
     },
     "execution_count": 43,
     "metadata": {},
     "output_type": "execute_result"
    }
   ],
   "source": [
    "genre_weekday(spb_general, 'Monday', '07:00', '11:00')# вызов функции для утра понедельника в Петербурге (вместо df — таблица spb_general)"
   ]
  },
  {
   "cell_type": "code",
   "execution_count": 44,
   "metadata": {
    "id": "EzXVRE1o_Zcu"
   },
   "outputs": [
    {
     "data": {
      "text/plain": [
       "genre\n",
       "pop            713\n",
       "rock           517\n",
       "dance          495\n",
       "electronic     482\n",
       "hiphop         273\n",
       "world          208\n",
       "ruspop         170\n",
       "alternative    163\n",
       "classical      163\n",
       "rusrap         142\n",
       "Name: user_id, dtype: int64"
      ]
     },
     "execution_count": 44,
     "metadata": {},
     "output_type": "execute_result"
    }
   ],
   "source": [
    "genre_weekday(moscow_general, 'Friday', '17:00', '23:00')## вызов функции для вечера пятницы в Москве"
   ]
  },
  {
   "cell_type": "code",
   "execution_count": 45,
   "metadata": {
    "id": "JZaEKu5v_Zcu"
   },
   "outputs": [
    {
     "data": {
      "text/plain": [
       "genre\n",
       "pop            256\n",
       "electronic     216\n",
       "rock           216\n",
       "dance          210\n",
       "hiphop          97\n",
       "alternative     63\n",
       "jazz            61\n",
       "classical       60\n",
       "rusrap          59\n",
       "world           54\n",
       "Name: user_id, dtype: int64"
      ]
     },
     "execution_count": 45,
     "metadata": {},
     "output_type": "execute_result"
    }
   ],
   "source": [
    "genre_weekday(spb_general, 'Friday', '17:00', '23:00')## вызов функции для вечера пятницы в Петербурге"
   ]
  },
  {
   "cell_type": "markdown",
   "metadata": {
    "id": "wrCe4MNX_Zcu"
   },
   "source": [
    "**Выводы**\n",
    "\n",
    "Если сравнить топ-10 жанров в понедельник утром, можно сделать такие выводы:\n",
    "\n",
    "1. В Москве и Петербурге слушают похожую музыку. Единственное отличие — в московский рейтинг вошёл жанр “world”, а в петербургский — джаз и классика.\n",
    "\n",
    "2. В Москве пропущенных значений оказалось так много, что значение `'unknown'` заняло десятое место среди самых популярных жанров. Значит, пропущенные значения занимают существенную долю в данных и угрожают достоверности исследования.\n",
    "\n",
    "Вечер пятницы не меняет эту картину. Некоторые жанры поднимаются немного выше, другие спускаются, но в целом топ-10 остаётся тем же самым.\n",
    "\n",
    "Таким образом, вторая гипотеза подтвердилась лишь частично:\n",
    "* Пользователи слушают похожую музыку в начале недели и в конце.\n",
    "* Разница между Москвой и Петербургом не слишком выражена. В Москве чаще слушают русскую популярную музыку, в Петербурге — джаз.\n",
    "\n",
    "Однако пропуски в данных ставят под сомнение этот результат. В Москве их так много, что рейтинг топ-10 мог бы выглядеть иначе, если бы не утерянные  данные о жанрах."
   ]
  },
  {
   "cell_type": "markdown",
   "metadata": {
    "id": "JolODAqr_Zcu"
   },
   "source": [
    "### Жанровые предпочтения в Москве и Петербурге\n",
    "\n",
    "Гипотеза: Петербург — столица рэпа, музыку этого жанра там слушают чаще, чем в Москве.  А Москва — город контрастов, в котором, тем не менее, преобладает поп-музыка."
   ]
  },
  {
   "cell_type": "markdown",
   "metadata": {
    "id": "DlegSvaT_Zcu"
   },
   "source": [
    "Сгруппируйте таблицу `moscow_general` по жанру и посчитайте прослушивания треков каждого жанра методом `count()`. Затем отсортируйте результат в порядке убывания и сохраните его в таблице `moscow_genres`."
   ]
  },
  {
   "cell_type": "code",
   "execution_count": 36,
   "metadata": {
    "id": "r19lIPke_Zcu"
   },
   "outputs": [],
   "source": [
    "moscow_genres = moscow_general.groupby('genre')['genre'].count().sort_values(ascending = False)  \n"
   ]
  },
  {
   "cell_type": "markdown",
   "metadata": {
    "id": "6kMuomxTiIr8"
   },
   "source": [
    "Выведите на экран первые десять строк `moscow_genres`:"
   ]
  },
  {
   "cell_type": "code",
   "execution_count": 37,
   "metadata": {
    "id": "WhCSooF8_Zcv"
   },
   "outputs": [
    {
     "data": {
      "text/plain": [
       "genre\n",
       "pop            5892\n",
       "dance          4435\n",
       "rock           3965\n",
       "electronic     3786\n",
       "hiphop         2096\n",
       "classical      1616\n",
       "world          1432\n",
       "alternative    1379\n",
       "ruspop         1372\n",
       "rusrap         1161\n",
       "Name: genre, dtype: int64"
      ]
     },
     "execution_count": 37,
     "metadata": {},
     "output_type": "execute_result"
    }
   ],
   "source": [
    "moscow_genres.head(10)\n"
   ]
  },
  {
   "cell_type": "markdown",
   "metadata": {
    "id": "cnPG2vnN_Zcv"
   },
   "source": [
    "Теперь повторите то же и для Петербурга.\n",
    "\n",
    "Сгруппируйте таблицу `spb_general` по жанру. Посчитайте прослушивания треков каждого жанра. Результат отсортируйте в порядке убывания и сохраните в таблице `spb_genres`:\n"
   ]
  },
  {
   "cell_type": "code",
   "execution_count": 38,
   "metadata": {
    "id": "gluLIpE7_Zcv"
   },
   "outputs": [],
   "source": [
    "spb_genres = spb_general.groupby('genre')['genre'].count().sort_values(ascending = False)"
   ]
  },
  {
   "cell_type": "markdown",
   "metadata": {
    "id": "5Doha_ODgyQ8"
   },
   "source": [
    "Выведите на экран первые десять строк `spb_genres`:"
   ]
  },
  {
   "cell_type": "code",
   "execution_count": 39,
   "metadata": {
    "id": "uaGJHjVU_Zcv"
   },
   "outputs": [
    {
     "data": {
      "text/plain": [
       "genre\n",
       "pop            2431\n",
       "dance          1932\n",
       "rock           1879\n",
       "electronic     1736\n",
       "hiphop          960\n",
       "alternative     649\n",
       "classical       646\n",
       "rusrap          564\n",
       "ruspop          538\n",
       "world           515\n",
       "Name: genre, dtype: int64"
      ]
     },
     "execution_count": 39,
     "metadata": {},
     "output_type": "execute_result"
    }
   ],
   "source": [
    "spb_genres.head(10)"
   ]
  },
  {
   "cell_type": "markdown",
   "metadata": {
    "id": "RY51YJYu_Zcv"
   },
   "source": [
    "**Выводы**"
   ]
  },
  {
   "cell_type": "markdown",
   "metadata": {
    "id": "nVhnJEm__Zcv"
   },
   "source": [
    "Гипотеза частично подтвердилась:\n",
    "* Поп-музыка — самый популярный жанр в Москве, как и предполагала гипотеза. Более того, в топ-10 жанров встречается близкий жанр — русская популярная музыка.\n",
    "* Вопреки ожиданиям, рэп одинаково популярен в Москве и Петербурге. \n"
   ]
  },
  {
   "cell_type": "markdown",
   "metadata": {
    "id": "ykKQ0N65_Zcv"
   },
   "source": [
    "## Итоги исследования"
   ]
  },
  {
   "cell_type": "markdown",
   "metadata": {
    "id": "tjUwbHb3_Zcv"
   },
   "source": [
    "Вы проверили три гипотезы и установили:\n",
    "\n",
    "1. День недели по-разному влияет на активность пользователей в Москве и Петербурге. \n",
    "\n",
    "Первая гипотеза полностью подтвердилась.\n",
    "\n",
    "2. Музыкальные предпочтения не сильно меняются в течение недели — будь то Москва или Петербург. Небольшие различия заметны в начале недели, по понедельникам:\n",
    "* в Москве слушают музыку жанра “world”,\n",
    "* в Петербурге — джаз и классику.\n",
    "\n",
    "Таким образом, вторая гипотеза подтвердилась лишь отчасти. Этот результат мог оказаться иным, если бы не пропуски в данных.\n",
    "\n",
    "3. Во вкусах пользователей Москвы и Петербурга больше общего чем различий. Вопреки ожиданиям, предпочтения жанров в Петербурге напоминают московские.\n",
    "\n",
    "Третья гипотеза не подтвердилась. Если различия в предпочтениях и существуют, на основной массе пользователей они незаметны.\n",
    "\n",
    "**На практике исследования содержат проверки статистических гипотез.**\n",
    "Из данных одного сервиса не всегда можно сделать вывод о всех жителях города.\n",
    "Проверки статистических гипотез покажут, насколько они достоверны, исходя из имеющихся данных. \n",
    "С методами проверок гипотез вы ещё познакомитесь в следующих темах."
   ]
  }
 ],
 "metadata": {
  "ExecuteTimeLog": [
   {
    "duration": 477,
    "start_time": "2022-04-20T20:06:37.526Z"
   },
   {
    "duration": 87,
    "start_time": "2022-04-20T20:08:31.084Z"
   },
   {
    "duration": 8,
    "start_time": "2022-04-20T20:08:50.672Z"
   },
   {
    "duration": 180,
    "start_time": "2022-04-20T20:11:33.112Z"
   },
   {
    "duration": 18,
    "start_time": "2022-04-20T20:12:35.756Z"
   },
   {
    "duration": 32,
    "start_time": "2022-04-20T20:14:18.368Z"
   },
   {
    "duration": 31,
    "start_time": "2022-04-20T20:15:33.946Z"
   },
   {
    "duration": 4,
    "start_time": "2022-04-20T20:16:08.460Z"
   },
   {
    "duration": 4,
    "start_time": "2022-04-20T20:24:14.357Z"
   },
   {
    "duration": 12,
    "start_time": "2022-04-20T20:28:06.137Z"
   },
   {
    "duration": 4,
    "start_time": "2022-04-20T20:28:10.242Z"
   },
   {
    "duration": 15,
    "start_time": "2022-04-20T20:28:54.351Z"
   },
   {
    "duration": 4,
    "start_time": "2022-04-20T20:29:14.339Z"
   },
   {
    "duration": 26,
    "start_time": "2022-04-20T20:30:20.081Z"
   },
   {
    "duration": 20,
    "start_time": "2022-04-20T20:36:47.815Z"
   },
   {
    "duration": 28,
    "start_time": "2022-04-20T20:37:17.877Z"
   },
   {
    "duration": 135,
    "start_time": "2022-04-20T20:40:59.147Z"
   },
   {
    "duration": 70,
    "start_time": "2022-04-20T20:41:22.081Z"
   },
   {
    "duration": 82,
    "start_time": "2022-04-20T20:42:35.226Z"
   },
   {
    "duration": 71,
    "start_time": "2022-04-20T20:42:40.482Z"
   },
   {
    "duration": 73,
    "start_time": "2022-04-20T20:42:52.737Z"
   },
   {
    "duration": 8,
    "start_time": "2022-04-20T20:45:27.874Z"
   },
   {
    "duration": 3,
    "start_time": "2022-04-20T20:47:56.583Z"
   },
   {
    "duration": 8,
    "start_time": "2022-04-20T20:49:14.900Z"
   },
   {
    "duration": 5,
    "start_time": "2022-04-20T20:49:28.249Z"
   },
   {
    "duration": 132,
    "start_time": "2022-04-20T20:59:07.820Z"
   },
   {
    "duration": 137,
    "start_time": "2022-04-20T21:06:18.791Z"
   },
   {
    "duration": 136,
    "start_time": "2022-04-20T21:09:04.279Z"
   },
   {
    "duration": 137,
    "start_time": "2022-04-20T21:09:18.035Z"
   },
   {
    "duration": 156,
    "start_time": "2022-04-20T21:09:30.944Z"
   },
   {
    "duration": 8,
    "start_time": "2022-04-20T21:09:58.040Z"
   },
   {
    "duration": 8,
    "start_time": "2022-04-20T21:12:39.855Z"
   },
   {
    "duration": 3,
    "start_time": "2022-04-20T21:21:14.992Z"
   },
   {
    "duration": 3,
    "start_time": "2022-04-20T21:21:17.721Z"
   },
   {
    "duration": 7,
    "start_time": "2022-04-20T21:24:57.518Z"
   },
   {
    "duration": 11,
    "start_time": "2022-04-20T21:27:25.483Z"
   },
   {
    "duration": 30,
    "start_time": "2022-04-20T21:27:53.117Z"
   },
   {
    "duration": 3,
    "start_time": "2022-04-20T21:33:34.947Z"
   },
   {
    "duration": 3,
    "start_time": "2022-04-20T21:33:43.310Z"
   },
   {
    "duration": 9,
    "start_time": "2022-04-20T21:42:03.901Z"
   },
   {
    "duration": 3,
    "start_time": "2022-04-20T21:47:50.612Z"
   },
   {
    "duration": 4,
    "start_time": "2022-04-20T21:47:54.870Z"
   },
   {
    "duration": 11,
    "start_time": "2022-04-20T21:51:41.129Z"
   },
   {
    "duration": 4,
    "start_time": "2022-04-20T21:52:21.195Z"
   },
   {
    "duration": 12,
    "start_time": "2022-04-20T21:52:28.308Z"
   },
   {
    "duration": 4,
    "start_time": "2022-04-20T21:54:05.683Z"
   },
   {
    "duration": 13,
    "start_time": "2022-04-20T21:54:09.418Z"
   },
   {
    "duration": 8,
    "start_time": "2022-04-20T21:54:15.716Z"
   },
   {
    "duration": 20,
    "start_time": "2022-04-20T21:57:48.455Z"
   },
   {
    "duration": 21,
    "start_time": "2022-04-20T21:59:15.515Z"
   },
   {
    "duration": 19,
    "start_time": "2022-04-20T22:00:29.564Z"
   },
   {
    "duration": 4,
    "start_time": "2022-04-20T22:08:06.450Z"
   },
   {
    "duration": 4,
    "start_time": "2022-04-20T22:08:11.853Z"
   },
   {
    "duration": 20,
    "start_time": "2022-04-20T22:13:11.311Z"
   },
   {
    "duration": 20,
    "start_time": "2022-04-20T22:13:14.700Z"
   },
   {
    "duration": 14,
    "start_time": "2022-04-20T22:13:23.016Z"
   },
   {
    "duration": 14,
    "start_time": "2022-04-20T22:13:27.038Z"
   },
   {
    "duration": 13,
    "start_time": "2022-04-20T22:13:30.086Z"
   },
   {
    "duration": 13,
    "start_time": "2022-04-20T22:13:32.499Z"
   },
   {
    "duration": 5,
    "start_time": "2022-04-20T22:16:26.729Z"
   },
   {
    "duration": 21,
    "start_time": "2022-04-20T22:16:31.412Z"
   },
   {
    "duration": 13,
    "start_time": "2022-04-20T22:16:35.234Z"
   },
   {
    "duration": 14,
    "start_time": "2022-04-20T22:16:36.253Z"
   },
   {
    "duration": 19,
    "start_time": "2022-04-20T22:16:42.973Z"
   },
   {
    "duration": 13,
    "start_time": "2022-04-20T22:19:34.115Z"
   },
   {
    "duration": 14,
    "start_time": "2022-04-20T22:19:34.985Z"
   },
   {
    "duration": 19,
    "start_time": "2022-04-20T22:19:35.360Z"
   },
   {
    "duration": 14,
    "start_time": "2022-04-20T22:20:47.712Z"
   },
   {
    "duration": 23,
    "start_time": "2022-04-20T22:20:52.597Z"
   },
   {
    "duration": 13,
    "start_time": "2022-04-20T22:21:30.778Z"
   },
   {
    "duration": 13,
    "start_time": "2022-04-20T22:21:54.152Z"
   },
   {
    "duration": 21,
    "start_time": "2022-04-20T22:24:33.956Z"
   },
   {
    "duration": 5,
    "start_time": "2022-04-20T22:24:47.686Z"
   },
   {
    "duration": 13,
    "start_time": "2022-04-20T22:26:30.668Z"
   },
   {
    "duration": 4,
    "start_time": "2022-04-20T22:27:29.771Z"
   },
   {
    "duration": 13,
    "start_time": "2022-04-20T22:27:36.222Z"
   },
   {
    "duration": 6,
    "start_time": "2022-04-20T22:33:59.665Z"
   },
   {
    "duration": 4,
    "start_time": "2022-04-20T22:34:18.939Z"
   },
   {
    "duration": 13,
    "start_time": "2022-04-20T22:34:24.867Z"
   },
   {
    "duration": 13,
    "start_time": "2022-04-20T22:37:54.187Z"
   },
   {
    "duration": 8,
    "start_time": "2022-04-20T22:38:24.821Z"
   },
   {
    "duration": 10,
    "start_time": "2022-04-20T22:39:09.195Z"
   },
   {
    "duration": 51,
    "start_time": "2022-04-21T13:30:15.436Z"
   },
   {
    "duration": 6,
    "start_time": "2022-04-21T13:31:35.453Z"
   },
   {
    "duration": 7,
    "start_time": "2022-04-21T13:32:05.890Z"
   },
   {
    "duration": 8,
    "start_time": "2022-04-21T13:33:24.896Z"
   },
   {
    "duration": 6,
    "start_time": "2022-04-21T13:33:36.150Z"
   },
   {
    "duration": 7,
    "start_time": "2022-04-21T13:35:29.218Z"
   },
   {
    "duration": 6,
    "start_time": "2022-04-21T13:35:52.123Z"
   },
   {
    "duration": 6,
    "start_time": "2022-04-21T13:35:54.526Z"
   },
   {
    "duration": 6,
    "start_time": "2022-04-21T13:35:57.768Z"
   },
   {
    "duration": 7,
    "start_time": "2022-04-21T13:36:05.355Z"
   },
   {
    "duration": 5,
    "start_time": "2022-04-21T13:36:23.927Z"
   },
   {
    "duration": 5,
    "start_time": "2022-04-21T13:36:32.362Z"
   },
   {
    "duration": 6,
    "start_time": "2022-04-21T13:37:17.368Z"
   },
   {
    "duration": 7,
    "start_time": "2022-04-21T13:38:08.985Z"
   },
   {
    "duration": 6,
    "start_time": "2022-04-21T13:44:13.469Z"
   },
   {
    "duration": 6,
    "start_time": "2022-04-21T13:45:42.017Z"
   },
   {
    "duration": 6,
    "start_time": "2022-04-21T14:19:32.161Z"
   },
   {
    "duration": 6,
    "start_time": "2022-04-21T14:19:40.951Z"
   },
   {
    "duration": 4,
    "start_time": "2022-04-21T14:20:03.700Z"
   },
   {
    "duration": 3,
    "start_time": "2022-04-21T14:20:05.431Z"
   },
   {
    "duration": 52,
    "start_time": "2022-04-23T08:55:02.402Z"
   },
   {
    "duration": 7,
    "start_time": "2022-04-23T08:55:12.386Z"
   },
   {
    "duration": 3,
    "start_time": "2022-04-23T08:55:24.045Z"
   },
   {
    "duration": 4,
    "start_time": "2022-04-23T08:55:27.032Z"
   },
   {
    "duration": 10,
    "start_time": "2022-04-23T08:55:29.978Z"
   },
   {
    "duration": 7,
    "start_time": "2022-04-23T08:56:01.557Z"
   },
   {
    "duration": 6,
    "start_time": "2022-04-23T08:56:20.552Z"
   },
   {
    "duration": 3,
    "start_time": "2022-04-23T08:58:17.960Z"
   },
   {
    "duration": 3,
    "start_time": "2022-04-23T08:58:21.362Z"
   },
   {
    "duration": 8,
    "start_time": "2022-04-23T08:58:25.086Z"
   },
   {
    "duration": 4,
    "start_time": "2022-04-23T08:58:52.429Z"
   },
   {
    "duration": 4,
    "start_time": "2022-04-23T08:58:55.721Z"
   },
   {
    "duration": 478,
    "start_time": "2022-04-23T09:03:18.907Z"
   },
   {
    "duration": 220,
    "start_time": "2022-04-23T09:03:23.212Z"
   },
   {
    "duration": 17,
    "start_time": "2022-04-23T09:03:29.916Z"
   },
   {
    "duration": 49,
    "start_time": "2022-04-23T09:03:35.334Z"
   },
   {
    "duration": 4,
    "start_time": "2022-04-23T09:03:42.068Z"
   },
   {
    "duration": 11,
    "start_time": "2022-04-23T09:03:45.453Z"
   },
   {
    "duration": 3,
    "start_time": "2022-04-23T09:03:50.770Z"
   },
   {
    "duration": 29,
    "start_time": "2022-04-23T09:03:53.966Z"
   },
   {
    "duration": 21,
    "start_time": "2022-04-23T09:03:57.457Z"
   },
   {
    "duration": 36,
    "start_time": "2022-04-23T09:04:01.079Z"
   },
   {
    "duration": 105,
    "start_time": "2022-04-23T09:04:05.413Z"
   },
   {
    "duration": 110,
    "start_time": "2022-04-23T09:04:08.726Z"
   },
   {
    "duration": 70,
    "start_time": "2022-04-23T09:04:12.815Z"
   },
   {
    "duration": 8,
    "start_time": "2022-04-23T09:04:16.268Z"
   },
   {
    "duration": 3,
    "start_time": "2022-04-23T09:04:20.345Z"
   },
   {
    "duration": 12,
    "start_time": "2022-04-23T09:04:23.111Z"
   },
   {
    "duration": 8,
    "start_time": "2022-04-23T09:04:37.833Z"
   },
   {
    "duration": 19,
    "start_time": "2022-04-23T09:04:45.906Z"
   },
   {
    "duration": 16,
    "start_time": "2022-04-23T09:04:51.619Z"
   },
   {
    "duration": 13,
    "start_time": "2022-04-23T09:05:36.425Z"
   },
   {
    "duration": 13,
    "start_time": "2022-04-23T09:05:39.740Z"
   },
   {
    "duration": 14,
    "start_time": "2022-04-23T09:05:43.010Z"
   },
   {
    "duration": 17,
    "start_time": "2022-04-23T09:05:49.202Z"
   },
   {
    "duration": 12,
    "start_time": "2022-04-23T09:05:54.945Z"
   },
   {
    "duration": 12,
    "start_time": "2022-04-23T09:06:09.071Z"
   },
   {
    "duration": 6,
    "start_time": "2022-04-23T09:06:12.425Z"
   },
   {
    "duration": 12,
    "start_time": "2022-04-23T09:06:17.306Z"
   },
   {
    "duration": 9,
    "start_time": "2022-04-23T09:06:20.737Z"
   },
   {
    "duration": 129,
    "start_time": "2022-04-23T09:06:28.332Z"
   },
   {
    "duration": 128,
    "start_time": "2022-04-23T10:03:19.378Z"
   },
   {
    "duration": 109,
    "start_time": "2022-04-23T10:03:48.382Z"
   },
   {
    "duration": 48,
    "start_time": "2022-04-23T16:32:39.556Z"
   },
   {
    "duration": 7,
    "start_time": "2022-04-23T16:32:42.116Z"
   },
   {
    "duration": 7,
    "start_time": "2022-04-23T16:32:42.880Z"
   },
   {
    "duration": 7,
    "start_time": "2022-04-23T16:32:43.758Z"
   },
   {
    "duration": 7,
    "start_time": "2022-04-23T16:32:44.624Z"
   },
   {
    "duration": 6,
    "start_time": "2022-04-23T16:39:58.160Z"
   },
   {
    "duration": 6,
    "start_time": "2022-04-23T16:40:25.501Z"
   },
   {
    "duration": 162,
    "start_time": "2022-04-23T16:41:01.929Z"
   },
   {
    "duration": 6,
    "start_time": "2022-04-23T16:41:14.739Z"
   },
   {
    "duration": 7,
    "start_time": "2022-04-23T16:49:30.039Z"
   },
   {
    "duration": 7,
    "start_time": "2022-04-23T16:49:39.227Z"
   },
   {
    "duration": 7,
    "start_time": "2022-04-23T16:49:45.488Z"
   },
   {
    "duration": 5,
    "start_time": "2022-04-23T16:49:49.641Z"
   },
   {
    "duration": 6,
    "start_time": "2022-04-23T16:49:54.329Z"
   },
   {
    "duration": 6,
    "start_time": "2022-04-23T16:49:57.319Z"
   },
   {
    "duration": 70,
    "start_time": "2022-04-26T10:37:00.636Z"
   },
   {
    "duration": 9,
    "start_time": "2022-04-26T10:37:27.319Z"
   },
   {
    "duration": 9,
    "start_time": "2022-04-26T10:37:30.911Z"
   },
   {
    "duration": 8,
    "start_time": "2022-04-26T10:37:32.059Z"
   },
   {
    "duration": 9,
    "start_time": "2022-04-26T10:40:59.686Z"
   },
   {
    "duration": 9,
    "start_time": "2022-04-26T10:42:30.157Z"
   },
   {
    "duration": 9,
    "start_time": "2022-04-26T10:42:31.194Z"
   },
   {
    "duration": 9,
    "start_time": "2022-04-26T10:43:04.456Z"
   },
   {
    "duration": 8,
    "start_time": "2022-04-26T10:44:17.834Z"
   },
   {
    "duration": 9,
    "start_time": "2022-04-26T10:44:37.370Z"
   },
   {
    "duration": 9,
    "start_time": "2022-04-26T13:31:57.269Z"
   },
   {
    "duration": 9,
    "start_time": "2022-04-26T13:31:58.124Z"
   },
   {
    "duration": 10,
    "start_time": "2022-04-26T13:34:43.051Z"
   },
   {
    "duration": 9,
    "start_time": "2022-04-26T13:34:47.360Z"
   },
   {
    "duration": 10,
    "start_time": "2022-04-26T13:37:12.177Z"
   },
   {
    "duration": 11,
    "start_time": "2022-04-26T13:37:32.646Z"
   },
   {
    "duration": 10,
    "start_time": "2022-04-26T13:37:33.293Z"
   },
   {
    "duration": 10,
    "start_time": "2022-04-26T13:37:34.124Z"
   },
   {
    "duration": 9,
    "start_time": "2022-04-26T13:37:35.211Z"
   },
   {
    "duration": 8,
    "start_time": "2022-04-26T13:37:36.441Z"
   },
   {
    "duration": 9,
    "start_time": "2022-04-26T13:37:41.195Z"
   },
   {
    "duration": 9,
    "start_time": "2022-04-26T13:42:40.358Z"
   },
   {
    "duration": 9,
    "start_time": "2022-04-26T13:42:46.873Z"
   },
   {
    "duration": 8,
    "start_time": "2022-04-26T13:42:48.239Z"
   },
   {
    "duration": 11,
    "start_time": "2022-04-26T13:42:56.592Z"
   },
   {
    "duration": 219,
    "start_time": "2022-04-26T13:52:53.339Z"
   },
   {
    "duration": 186,
    "start_time": "2022-04-26T13:53:17.293Z"
   },
   {
    "duration": 9,
    "start_time": "2022-04-26T13:53:22.458Z"
   },
   {
    "duration": 9,
    "start_time": "2022-04-26T13:55:24.063Z"
   },
   {
    "duration": 9,
    "start_time": "2022-04-26T13:59:47.141Z"
   },
   {
    "duration": 8,
    "start_time": "2022-04-26T14:01:31.698Z"
   },
   {
    "duration": 12,
    "start_time": "2022-04-26T14:06:41.221Z"
   },
   {
    "duration": 11,
    "start_time": "2022-04-26T14:06:45.990Z"
   },
   {
    "duration": 8,
    "start_time": "2022-04-26T14:10:14.304Z"
   },
   {
    "duration": 10,
    "start_time": "2022-04-26T14:14:38.183Z"
   },
   {
    "duration": 11,
    "start_time": "2022-04-26T14:14:46.483Z"
   },
   {
    "duration": 11,
    "start_time": "2022-04-26T14:15:08.025Z"
   },
   {
    "duration": 169,
    "start_time": "2022-04-26T14:18:37.612Z"
   },
   {
    "duration": 487,
    "start_time": "2022-04-26T14:22:40.502Z"
   },
   {
    "duration": 40,
    "start_time": "2022-04-26T14:22:50.044Z"
   },
   {
    "duration": 11,
    "start_time": "2022-04-26T14:22:51.436Z"
   },
   {
    "duration": 9,
    "start_time": "2022-04-26T14:23:44.488Z"
   },
   {
    "duration": 11,
    "start_time": "2022-04-26T14:23:45.267Z"
   },
   {
    "duration": 8,
    "start_time": "2022-04-26T14:23:47.235Z"
   },
   {
    "duration": 432,
    "start_time": "2022-04-26T14:47:21.420Z"
   },
   {
    "duration": 167,
    "start_time": "2022-04-26T14:47:22.680Z"
   },
   {
    "duration": 17,
    "start_time": "2022-04-26T14:47:24.589Z"
   },
   {
    "duration": 27,
    "start_time": "2022-04-26T14:47:27.142Z"
   },
   {
    "duration": 3,
    "start_time": "2022-04-26T14:47:32.066Z"
   },
   {
    "duration": 10,
    "start_time": "2022-04-26T14:47:34.171Z"
   },
   {
    "duration": 4,
    "start_time": "2022-04-26T14:47:35.805Z"
   },
   {
    "duration": 42,
    "start_time": "2022-04-26T14:47:37.378Z"
   },
   {
    "duration": 23,
    "start_time": "2022-04-26T14:47:47.703Z"
   },
   {
    "duration": 24,
    "start_time": "2022-04-26T14:47:48.835Z"
   },
   {
    "duration": 65,
    "start_time": "2022-04-26T14:47:51.300Z"
   },
   {
    "duration": 80,
    "start_time": "2022-04-26T14:47:55.065Z"
   },
   {
    "duration": 58,
    "start_time": "2022-04-26T14:47:56.419Z"
   },
   {
    "duration": 2,
    "start_time": "2022-04-26T14:47:59.217Z"
   },
   {
    "duration": 3,
    "start_time": "2022-04-26T14:49:31.251Z"
   },
   {
    "duration": 9,
    "start_time": "2022-04-26T14:49:33.273Z"
   },
   {
    "duration": 8,
    "start_time": "2022-04-26T14:49:34.319Z"
   },
   {
    "duration": 16,
    "start_time": "2022-04-26T14:49:40.330Z"
   },
   {
    "duration": 48,
    "start_time": "2022-04-26T16:43:20.332Z"
   },
   {
    "duration": 8,
    "start_time": "2022-04-26T16:43:36.330Z"
   },
   {
    "duration": 9,
    "start_time": "2022-04-26T16:43:37.996Z"
   },
   {
    "duration": 7,
    "start_time": "2022-04-26T16:44:29.095Z"
   },
   {
    "duration": 7,
    "start_time": "2022-04-26T16:54:40.777Z"
   },
   {
    "duration": 9,
    "start_time": "2022-04-26T17:03:02.560Z"
   },
   {
    "duration": 8,
    "start_time": "2022-04-26T17:04:08.368Z"
   },
   {
    "duration": 8,
    "start_time": "2022-04-26T17:04:09.696Z"
   },
   {
    "duration": 7,
    "start_time": "2022-04-26T17:04:10.672Z"
   },
   {
    "duration": 7,
    "start_time": "2022-04-26T17:04:46.333Z"
   },
   {
    "duration": 7,
    "start_time": "2022-04-26T17:20:31.968Z"
   },
   {
    "duration": 7,
    "start_time": "2022-04-26T17:20:33.037Z"
   },
   {
    "duration": 6,
    "start_time": "2022-04-26T17:23:00.379Z"
   },
   {
    "duration": 6,
    "start_time": "2022-04-26T17:23:01.036Z"
   },
   {
    "duration": 7,
    "start_time": "2022-04-26T17:23:01.682Z"
   },
   {
    "duration": 7,
    "start_time": "2022-04-26T17:30:48.958Z"
   },
   {
    "duration": 8,
    "start_time": "2022-04-26T17:30:49.793Z"
   },
   {
    "duration": 7,
    "start_time": "2022-04-26T17:31:17.184Z"
   },
   {
    "duration": 7,
    "start_time": "2022-04-26T17:31:37.548Z"
   },
   {
    "duration": 7,
    "start_time": "2022-04-26T17:32:05.844Z"
   },
   {
    "duration": 7,
    "start_time": "2022-04-26T17:32:06.193Z"
   },
   {
    "duration": 7,
    "start_time": "2022-04-26T17:32:06.448Z"
   },
   {
    "duration": 6,
    "start_time": "2022-04-26T17:32:06.617Z"
   },
   {
    "duration": 12,
    "start_time": "2022-04-26T17:37:37.795Z"
   },
   {
    "duration": 7,
    "start_time": "2022-04-26T17:37:38.139Z"
   },
   {
    "duration": 130,
    "start_time": "2022-04-26T17:38:01.207Z"
   },
   {
    "duration": 118,
    "start_time": "2022-04-26T17:38:13.807Z"
   },
   {
    "duration": 114,
    "start_time": "2022-04-26T17:38:26.749Z"
   },
   {
    "duration": 6,
    "start_time": "2022-04-26T17:38:47.413Z"
   },
   {
    "duration": 7,
    "start_time": "2022-04-26T17:39:34.689Z"
   },
   {
    "duration": 10,
    "start_time": "2022-04-26T17:41:41.388Z"
   },
   {
    "duration": 7,
    "start_time": "2022-04-26T17:42:34.746Z"
   },
   {
    "duration": 7,
    "start_time": "2022-04-26T17:42:49.828Z"
   },
   {
    "duration": 10,
    "start_time": "2022-04-26T17:45:33.257Z"
   },
   {
    "duration": 7,
    "start_time": "2022-04-26T17:45:37.122Z"
   },
   {
    "duration": 136,
    "start_time": "2022-04-26T17:49:26.941Z"
   },
   {
    "duration": 131,
    "start_time": "2022-04-26T17:49:51.361Z"
   },
   {
    "duration": 6,
    "start_time": "2022-04-26T17:50:36.419Z"
   },
   {
    "duration": 6,
    "start_time": "2022-04-26T17:50:54.277Z"
   },
   {
    "duration": 6,
    "start_time": "2022-04-26T17:51:34.436Z"
   },
   {
    "duration": 7,
    "start_time": "2022-04-26T17:52:41.410Z"
   },
   {
    "duration": 7,
    "start_time": "2022-04-26T17:52:43.440Z"
   },
   {
    "duration": 9,
    "start_time": "2022-04-26T17:52:44.773Z"
   },
   {
    "duration": 7,
    "start_time": "2022-04-26T17:52:48.718Z"
   },
   {
    "duration": 10,
    "start_time": "2022-04-26T17:52:53.593Z"
   },
   {
    "duration": 7,
    "start_time": "2022-04-26T17:53:08.033Z"
   },
   {
    "duration": 7,
    "start_time": "2022-04-26T17:53:14.208Z"
   },
   {
    "duration": 615,
    "start_time": "2022-04-26T23:32:41.699Z"
   },
   {
    "duration": 211,
    "start_time": "2022-04-26T23:32:43.158Z"
   },
   {
    "duration": 26,
    "start_time": "2022-04-26T23:32:44.907Z"
   },
   {
    "duration": 60,
    "start_time": "2022-04-26T23:32:51.160Z"
   },
   {
    "duration": 40,
    "start_time": "2022-04-26T23:32:58.757Z"
   },
   {
    "duration": 5,
    "start_time": "2022-04-26T23:33:04.069Z"
   },
   {
    "duration": 14,
    "start_time": "2022-04-26T23:33:07.346Z"
   },
   {
    "duration": 5,
    "start_time": "2022-04-26T23:33:09.033Z"
   },
   {
    "duration": 33,
    "start_time": "2022-04-26T23:33:10.783Z"
   },
   {
    "duration": 26,
    "start_time": "2022-04-26T23:33:14.285Z"
   },
   {
    "duration": 34,
    "start_time": "2022-04-26T23:33:16.703Z"
   },
   {
    "duration": 96,
    "start_time": "2022-04-26T23:33:19.418Z"
   },
   {
    "duration": 119,
    "start_time": "2022-04-26T23:33:20.355Z"
   },
   {
    "duration": 93,
    "start_time": "2022-04-26T23:33:21.246Z"
   },
   {
    "duration": 97,
    "start_time": "2022-04-26T23:33:23.849Z"
   },
   {
    "duration": 4,
    "start_time": "2022-04-26T23:37:20.276Z"
   },
   {
    "duration": 13,
    "start_time": "2022-04-26T23:37:22.141Z"
   },
   {
    "duration": 11,
    "start_time": "2022-04-26T23:37:26.269Z"
   },
   {
    "duration": 17,
    "start_time": "2022-04-26T23:38:09.094Z"
   },
   {
    "duration": 17,
    "start_time": "2022-04-26T23:38:30.610Z"
   },
   {
    "duration": 17,
    "start_time": "2022-04-26T23:38:31.811Z"
   },
   {
    "duration": 95,
    "start_time": "2022-04-26T23:38:33.791Z"
   },
   {
    "duration": 87,
    "start_time": "2022-04-26T23:39:03.530Z"
   },
   {
    "duration": 93,
    "start_time": "2022-04-26T23:39:14.666Z"
   },
   {
    "duration": 92,
    "start_time": "2022-04-26T23:40:19.796Z"
   },
   {
    "duration": 6,
    "start_time": "2022-04-26T23:40:45.638Z"
   },
   {
    "duration": 17,
    "start_time": "2022-04-26T23:40:48.719Z"
   },
   {
    "duration": 17,
    "start_time": "2022-04-26T23:40:52.644Z"
   },
   {
    "duration": 17,
    "start_time": "2022-04-26T23:40:53.866Z"
   },
   {
    "duration": 17,
    "start_time": "2022-04-26T23:40:56.265Z"
   },
   {
    "duration": 9,
    "start_time": "2022-04-26T23:45:54.793Z"
   },
   {
    "duration": 16,
    "start_time": "2022-04-26T23:46:29.141Z"
   },
   {
    "duration": 14,
    "start_time": "2022-04-26T23:46:30.467Z"
   },
   {
    "duration": 92,
    "start_time": "2022-04-26T23:46:32.566Z"
   },
   {
    "duration": 110,
    "start_time": "2022-04-26T23:47:28.249Z"
   },
   {
    "duration": 6,
    "start_time": "2022-04-26T23:48:29.253Z"
   },
   {
    "duration": 1796,
    "start_time": "2022-04-26T23:48:32.315Z"
   },
   {
    "duration": 6,
    "start_time": "2022-04-26T23:49:11.937Z"
   },
   {
    "duration": 29,
    "start_time": "2022-04-26T23:49:14.747Z"
   },
   {
    "duration": 148,
    "start_time": "2022-04-27T16:09:44.659Z"
   },
   {
    "duration": 155,
    "start_time": "2022-04-27T16:09:46.717Z"
   },
   {
    "duration": 64,
    "start_time": "2022-04-27T16:09:53.401Z"
   },
   {
    "duration": 9,
    "start_time": "2022-04-27T16:09:54.361Z"
   },
   {
    "duration": 5,
    "start_time": "2022-04-27T16:14:45.166Z"
   },
   {
    "duration": 11,
    "start_time": "2022-04-27T16:14:52.125Z"
   },
   {
    "duration": 10,
    "start_time": "2022-04-27T16:17:03.293Z"
   },
   {
    "duration": 9,
    "start_time": "2022-04-27T16:17:55.111Z"
   },
   {
    "duration": 10,
    "start_time": "2022-04-27T16:19:06.613Z"
   },
   {
    "duration": 8,
    "start_time": "2022-04-27T16:19:59.442Z"
   },
   {
    "duration": 10,
    "start_time": "2022-04-27T16:26:39.300Z"
   },
   {
    "duration": 8,
    "start_time": "2022-04-27T16:32:39.417Z"
   },
   {
    "duration": 9,
    "start_time": "2022-04-27T16:32:43.541Z"
   },
   {
    "duration": 12,
    "start_time": "2022-04-27T16:32:46.485Z"
   },
   {
    "duration": 9,
    "start_time": "2022-04-27T16:33:25.698Z"
   },
   {
    "duration": 10,
    "start_time": "2022-04-27T16:34:14.966Z"
   },
   {
    "duration": 11,
    "start_time": "2022-04-27T16:34:24.882Z"
   },
   {
    "duration": 10,
    "start_time": "2022-04-27T16:34:27.941Z"
   },
   {
    "duration": 11,
    "start_time": "2022-04-27T16:34:29.153Z"
   },
   {
    "duration": 8,
    "start_time": "2022-04-27T16:35:19.521Z"
   },
   {
    "duration": 9,
    "start_time": "2022-04-27T16:35:26.817Z"
   },
   {
    "duration": 9,
    "start_time": "2022-04-27T16:35:41.327Z"
   },
   {
    "duration": 8,
    "start_time": "2022-04-27T16:36:56.461Z"
   },
   {
    "duration": 9,
    "start_time": "2022-04-27T16:39:22.060Z"
   },
   {
    "duration": 6,
    "start_time": "2022-04-27T16:46:36.602Z"
   },
   {
    "duration": 6,
    "start_time": "2022-04-27T16:46:41.728Z"
   },
   {
    "duration": 8,
    "start_time": "2022-04-27T16:46:49.240Z"
   },
   {
    "duration": 8,
    "start_time": "2022-04-27T16:47:05.605Z"
   },
   {
    "duration": 8,
    "start_time": "2022-04-27T16:49:36.986Z"
   },
   {
    "duration": 541,
    "start_time": "2022-04-28T18:04:56.012Z"
   },
   {
    "duration": 210,
    "start_time": "2022-04-28T18:05:00.659Z"
   },
   {
    "duration": 27,
    "start_time": "2022-04-28T18:05:05.798Z"
   },
   {
    "duration": 46,
    "start_time": "2022-04-28T18:05:11.700Z"
   },
   {
    "duration": 6,
    "start_time": "2022-04-28T18:05:19.655Z"
   },
   {
    "duration": 18,
    "start_time": "2022-04-28T18:05:24.502Z"
   },
   {
    "duration": 10,
    "start_time": "2022-04-28T18:05:30.439Z"
   },
   {
    "duration": 37,
    "start_time": "2022-04-28T18:05:34.989Z"
   },
   {
    "duration": 37,
    "start_time": "2022-04-28T18:05:39.976Z"
   },
   {
    "duration": 64,
    "start_time": "2022-04-28T18:05:44.496Z"
   },
   {
    "duration": 104,
    "start_time": "2022-04-28T18:05:48.324Z"
   },
   {
    "duration": 125,
    "start_time": "2022-04-28T18:05:51.938Z"
   },
   {
    "duration": 99,
    "start_time": "2022-04-28T18:05:55.449Z"
   },
   {
    "duration": 2327,
    "start_time": "2022-04-28T18:05:59.976Z"
   },
   {
    "duration": 4,
    "start_time": "2022-04-28T18:06:28.194Z"
   },
   {
    "duration": 14,
    "start_time": "2022-04-28T18:06:32.502Z"
   },
   {
    "duration": 2156,
    "start_time": "2022-04-28T18:06:36.558Z"
   },
   {
    "duration": 16,
    "start_time": "2022-04-28T18:07:03.073Z"
   },
   {
    "duration": 18,
    "start_time": "2022-04-28T18:07:07.111Z"
   },
   {
    "duration": 5,
    "start_time": "2022-04-28T18:07:11.262Z"
   },
   {
    "duration": 9,
    "start_time": "2022-04-28T18:07:44.170Z"
   },
   {
    "duration": 9,
    "start_time": "2022-04-28T18:07:48.307Z"
   },
   {
    "duration": 10,
    "start_time": "2022-04-28T18:08:18.085Z"
   },
   {
    "duration": 36,
    "start_time": "2022-04-28T18:08:36.200Z"
   },
   {
    "duration": 25,
    "start_time": "2022-04-28T18:08:39.736Z"
   },
   {
    "duration": 10,
    "start_time": "2022-04-28T18:08:43.045Z"
   },
   {
    "duration": 19,
    "start_time": "2022-04-28T18:08:53.838Z"
   },
   {
    "duration": 23,
    "start_time": "2022-04-28T18:09:06.645Z"
   },
   {
    "duration": 18,
    "start_time": "2022-04-28T18:09:14.980Z"
   },
   {
    "duration": 10,
    "start_time": "2022-04-28T18:11:43.002Z"
   },
   {
    "duration": 9,
    "start_time": "2022-04-28T18:12:20.963Z"
   },
   {
    "duration": 6,
    "start_time": "2022-04-28T18:12:27.510Z"
   },
   {
    "duration": 10,
    "start_time": "2022-04-28T18:12:33.556Z"
   },
   {
    "duration": 11,
    "start_time": "2022-04-28T18:12:40.875Z"
   },
   {
    "duration": 8,
    "start_time": "2022-04-28T18:12:44.218Z"
   },
   {
    "duration": 12,
    "start_time": "2022-04-28T18:12:49.593Z"
   },
   {
    "duration": 7,
    "start_time": "2022-04-28T18:13:46.836Z"
   },
   {
    "duration": 237,
    "start_time": "2022-04-28T18:13:49.695Z"
   },
   {
    "duration": 23,
    "start_time": "2022-04-28T18:13:52.550Z"
   },
   {
    "duration": 41,
    "start_time": "2022-04-28T18:13:57.745Z"
   },
   {
    "duration": 5,
    "start_time": "2022-04-28T18:14:05.877Z"
   },
   {
    "duration": 17,
    "start_time": "2022-04-28T18:15:16.949Z"
   },
   {
    "duration": 5,
    "start_time": "2022-04-28T18:15:20.846Z"
   },
   {
    "duration": 37,
    "start_time": "2022-04-28T18:15:25.293Z"
   },
   {
    "duration": 25,
    "start_time": "2022-04-28T18:15:29.471Z"
   },
   {
    "duration": 35,
    "start_time": "2022-04-28T18:15:33.277Z"
   },
   {
    "duration": 105,
    "start_time": "2022-04-28T18:15:37.076Z"
   },
   {
    "duration": 115,
    "start_time": "2022-04-28T18:15:41.457Z"
   },
   {
    "duration": 133,
    "start_time": "2022-04-28T18:15:44.216Z"
   },
   {
    "duration": 2437,
    "start_time": "2022-04-28T18:15:48.143Z"
   },
   {
    "duration": 4,
    "start_time": "2022-04-28T18:16:54.886Z"
   },
   {
    "duration": 14,
    "start_time": "2022-04-28T18:16:58.192Z"
   },
   {
    "duration": 2386,
    "start_time": "2022-04-28T18:17:02.498Z"
   },
   {
    "duration": 2154,
    "start_time": "2022-04-28T18:17:36.323Z"
   },
   {
    "duration": 2395,
    "start_time": "2022-04-28T18:17:53.408Z"
   },
   {
    "duration": 5,
    "start_time": "2022-04-28T18:17:58.750Z"
   },
   {
    "duration": 18,
    "start_time": "2022-04-28T18:18:01.230Z"
   },
   {
    "duration": 2409,
    "start_time": "2022-04-28T18:18:05.900Z"
   },
   {
    "duration": 26,
    "start_time": "2022-04-28T18:18:15.841Z"
   },
   {
    "duration": 16,
    "start_time": "2022-04-28T18:18:19.745Z"
   },
   {
    "duration": 6,
    "start_time": "2022-04-28T18:18:23.570Z"
   },
   {
    "duration": 58,
    "start_time": "2022-04-28T18:19:43.409Z"
   },
   {
    "duration": 5,
    "start_time": "2022-04-28T18:19:52.238Z"
   },
   {
    "duration": 18,
    "start_time": "2022-04-28T18:19:55.398Z"
   },
   {
    "duration": 2684,
    "start_time": "2022-04-28T18:20:00.331Z"
   },
   {
    "duration": 11,
    "start_time": "2022-04-28T18:20:14.059Z"
   },
   {
    "duration": 17,
    "start_time": "2022-04-28T18:20:20.186Z"
   },
   {
    "duration": 19,
    "start_time": "2022-04-28T18:20:23.420Z"
   },
   {
    "duration": 5,
    "start_time": "2022-04-28T18:20:28.861Z"
   },
   {
    "duration": 36,
    "start_time": "2022-04-28T18:20:36.719Z"
   },
   {
    "duration": 23,
    "start_time": "2022-04-28T18:21:02.169Z"
   },
   {
    "duration": 15,
    "start_time": "2022-04-28T18:21:05.092Z"
   },
   {
    "duration": 7,
    "start_time": "2022-04-28T18:21:10.931Z"
   },
   {
    "duration": 24,
    "start_time": "2022-04-28T18:21:15.195Z"
   },
   {
    "duration": 17,
    "start_time": "2022-04-28T18:21:18.474Z"
   },
   {
    "duration": 23,
    "start_time": "2022-04-28T18:21:21.398Z"
   },
   {
    "duration": 16,
    "start_time": "2022-04-28T18:21:24.376Z"
   },
   {
    "duration": 14,
    "start_time": "2022-04-28T18:21:28.197Z"
   },
   {
    "duration": 8,
    "start_time": "2022-04-28T18:21:32.284Z"
   },
   {
    "duration": 9,
    "start_time": "2022-04-28T18:21:35.672Z"
   },
   {
    "duration": 7,
    "start_time": "2022-04-28T18:21:39.359Z"
   },
   {
    "duration": 403,
    "start_time": "2022-05-03T19:56:04.652Z"
   },
   {
    "duration": 149,
    "start_time": "2022-05-03T19:56:06.665Z"
   },
   {
    "duration": 18,
    "start_time": "2022-05-03T19:56:08.138Z"
   },
   {
    "duration": 30,
    "start_time": "2022-05-03T19:56:09.817Z"
   },
   {
    "duration": 3,
    "start_time": "2022-05-03T19:56:12.066Z"
   },
   {
    "duration": 10,
    "start_time": "2022-05-03T19:56:13.687Z"
   },
   {
    "duration": 4,
    "start_time": "2022-05-03T19:56:14.340Z"
   },
   {
    "duration": 25,
    "start_time": "2022-05-03T19:56:15.884Z"
   },
   {
    "duration": 19,
    "start_time": "2022-05-03T19:56:19.914Z"
   },
   {
    "duration": 25,
    "start_time": "2022-05-03T19:56:21.193Z"
   },
   {
    "duration": 63,
    "start_time": "2022-05-03T19:56:22.763Z"
   },
   {
    "duration": 78,
    "start_time": "2022-05-03T19:56:24.488Z"
   },
   {
    "duration": 60,
    "start_time": "2022-05-03T19:56:25.491Z"
   },
   {
    "duration": 44,
    "start_time": "2022-05-03T19:56:27.786Z"
   },
   {
    "duration": 3,
    "start_time": "2022-05-03T19:56:47.316Z"
   },
   {
    "duration": 10,
    "start_time": "2022-05-03T19:56:48.088Z"
   },
   {
    "duration": 7,
    "start_time": "2022-05-03T19:56:50.039Z"
   },
   {
    "duration": 13,
    "start_time": "2022-05-03T19:56:54.198Z"
   },
   {
    "duration": 13,
    "start_time": "2022-05-03T19:56:55.417Z"
   },
   {
    "duration": 4,
    "start_time": "2022-05-03T19:56:57.813Z"
   },
   {
    "duration": 17,
    "start_time": "2022-05-03T19:57:25.480Z"
   },
   {
    "duration": 4,
    "start_time": "2022-05-03T19:58:16.940Z"
   },
   {
    "duration": 13,
    "start_time": "2022-05-03T19:58:19.278Z"
   },
   {
    "duration": 13,
    "start_time": "2022-05-03T19:58:21.234Z"
   },
   {
    "duration": 13,
    "start_time": "2022-05-03T19:58:44.358Z"
   },
   {
    "duration": 24,
    "start_time": "2022-05-03T19:58:53.511Z"
   },
   {
    "duration": 4,
    "start_time": "2022-05-03T19:59:06.386Z"
   },
   {
    "duration": 20,
    "start_time": "2022-05-03T19:59:08.345Z"
   },
   {
    "duration": 69,
    "start_time": "2022-05-04T11:30:48.605Z"
   },
   {
    "duration": 448,
    "start_time": "2022-05-04T11:32:00.600Z"
   },
   {
    "duration": 204,
    "start_time": "2022-05-04T11:32:04.088Z"
   },
   {
    "duration": 36,
    "start_time": "2022-05-04T11:32:07.223Z"
   },
   {
    "duration": 43,
    "start_time": "2022-05-04T11:32:10.706Z"
   },
   {
    "duration": 4,
    "start_time": "2022-05-04T11:32:17.010Z"
   },
   {
    "duration": 13,
    "start_time": "2022-05-04T11:32:20.206Z"
   },
   {
    "duration": 5,
    "start_time": "2022-05-04T11:32:23.596Z"
   },
   {
    "duration": 36,
    "start_time": "2022-05-04T11:32:26.720Z"
   },
   {
    "duration": 24,
    "start_time": "2022-05-04T11:32:31.448Z"
   },
   {
    "duration": 34,
    "start_time": "2022-05-04T11:32:34.656Z"
   },
   {
    "duration": 103,
    "start_time": "2022-05-04T11:32:37.893Z"
   },
   {
    "duration": 111,
    "start_time": "2022-05-04T11:32:40.795Z"
   },
   {
    "duration": 95,
    "start_time": "2022-05-04T11:32:43.680Z"
   },
   {
    "duration": 43,
    "start_time": "2022-05-04T11:32:47.667Z"
   },
   {
    "duration": 4,
    "start_time": "2022-05-04T11:32:53.775Z"
   },
   {
    "duration": 14,
    "start_time": "2022-05-04T11:32:56.998Z"
   },
   {
    "duration": 9,
    "start_time": "2022-05-04T11:33:00.049Z"
   },
   {
    "duration": 16,
    "start_time": "2022-05-04T11:33:05.152Z"
   },
   {
    "duration": 17,
    "start_time": "2022-05-04T11:33:08.247Z"
   },
   {
    "duration": 5,
    "start_time": "2022-05-04T11:33:13.528Z"
   },
   {
    "duration": 28,
    "start_time": "2022-05-04T11:33:18.940Z"
   },
   {
    "duration": 19,
    "start_time": "2022-05-04T11:33:22.095Z"
   },
   {
    "duration": 25,
    "start_time": "2022-05-04T11:33:25.126Z"
   },
   {
    "duration": 20,
    "start_time": "2022-05-04T11:33:28.271Z"
   },
   {
    "duration": 28,
    "start_time": "2022-05-04T11:33:30.933Z"
   },
   {
    "duration": 19,
    "start_time": "2022-05-04T11:33:33.650Z"
   },
   {
    "duration": 13,
    "start_time": "2022-05-04T11:34:51.584Z"
   },
   {
    "duration": 22,
    "start_time": "2022-05-04T11:34:57.479Z"
   },
   {
    "duration": 17,
    "start_time": "2022-05-04T11:35:00.402Z"
   },
   {
    "duration": 8,
    "start_time": "2022-05-04T11:35:04.950Z"
   },
   {
    "duration": 23,
    "start_time": "2022-05-04T11:35:09.069Z"
   },
   {
    "duration": 17,
    "start_time": "2022-05-04T11:35:12.161Z"
   },
   {
    "duration": 23,
    "start_time": "2022-05-04T11:35:14.784Z"
   },
   {
    "duration": 17,
    "start_time": "2022-05-04T11:35:17.663Z"
   },
   {
    "duration": 13,
    "start_time": "2022-05-04T11:35:23.622Z"
   },
   {
    "duration": 7,
    "start_time": "2022-05-04T11:35:26.085Z"
   },
   {
    "duration": 8,
    "start_time": "2022-05-04T11:35:31.162Z"
   },
   {
    "duration": 6,
    "start_time": "2022-05-04T11:35:33.973Z"
   },
   {
    "duration": 11,
    "start_time": "2022-05-04T12:40:08.194Z"
   },
   {
    "duration": 63,
    "start_time": "2022-05-04T12:40:13.171Z"
   },
   {
    "duration": 458,
    "start_time": "2022-05-04T12:40:19.388Z"
   },
   {
    "duration": 244,
    "start_time": "2022-05-04T12:40:20.471Z"
   },
   {
    "duration": 25,
    "start_time": "2022-05-04T12:40:22.265Z"
   },
   {
    "duration": 41,
    "start_time": "2022-05-04T12:40:23.846Z"
   },
   {
    "duration": 3,
    "start_time": "2022-05-04T12:40:27.424Z"
   },
   {
    "duration": 15,
    "start_time": "2022-05-04T12:40:29.220Z"
   },
   {
    "duration": 5,
    "start_time": "2022-05-04T12:40:29.876Z"
   },
   {
    "duration": 35,
    "start_time": "2022-05-04T12:40:31.401Z"
   },
   {
    "duration": 31,
    "start_time": "2022-05-04T12:40:32.953Z"
   },
   {
    "duration": 47,
    "start_time": "2022-05-04T12:40:33.774Z"
   },
   {
    "duration": 75,
    "start_time": "2022-05-04T12:40:35.595Z"
   },
   {
    "duration": 90,
    "start_time": "2022-05-04T12:40:36.655Z"
   },
   {
    "duration": 99,
    "start_time": "2022-05-04T12:40:37.333Z"
   },
   {
    "duration": 46,
    "start_time": "2022-05-04T12:40:38.844Z"
   },
   {
    "duration": 4,
    "start_time": "2022-05-04T12:40:44.591Z"
   },
   {
    "duration": 12,
    "start_time": "2022-05-04T12:40:45.395Z"
   },
   {
    "duration": 8,
    "start_time": "2022-05-04T12:40:47.168Z"
   },
   {
    "duration": 14,
    "start_time": "2022-05-04T12:40:50.944Z"
   },
   {
    "duration": 13,
    "start_time": "2022-05-04T12:40:52.334Z"
   },
   {
    "duration": 4,
    "start_time": "2022-05-04T12:40:53.999Z"
   },
   {
    "duration": 32,
    "start_time": "2022-05-04T12:40:56.641Z"
   },
   {
    "duration": 22,
    "start_time": "2022-05-04T12:40:57.861Z"
   },
   {
    "duration": 30,
    "start_time": "2022-05-04T12:40:58.748Z"
   },
   {
    "duration": 24,
    "start_time": "2022-05-04T12:40:59.422Z"
   },
   {
    "duration": 33,
    "start_time": "2022-05-04T12:41:00.302Z"
   },
   {
    "duration": 23,
    "start_time": "2022-05-04T12:41:02.188Z"
   },
   {
    "duration": 7,
    "start_time": "2022-05-04T12:41:03.262Z"
   },
   {
    "duration": 17,
    "start_time": "2022-05-04T12:41:09.724Z"
   },
   {
    "duration": 15,
    "start_time": "2022-05-04T12:41:09.743Z"
   },
   {
    "duration": 8,
    "start_time": "2022-05-04T12:41:14.850Z"
   },
   {
    "duration": 26,
    "start_time": "2022-05-04T12:41:17.580Z"
   },
   {
    "duration": 9,
    "start_time": "2022-05-04T12:43:21.867Z"
   },
   {
    "duration": 30,
    "start_time": "2022-05-04T12:43:23.743Z"
   },
   {
    "duration": 30,
    "start_time": "2022-05-04T12:43:28.262Z"
   },
   {
    "duration": 6,
    "start_time": "2022-05-04T12:44:18.110Z"
   },
   {
    "duration": 30,
    "start_time": "2022-05-04T12:44:20.475Z"
   },
   {
    "duration": 6,
    "start_time": "2022-05-04T12:44:34.681Z"
   },
   {
    "duration": 27,
    "start_time": "2022-05-04T12:44:37.637Z"
   },
   {
    "duration": 6,
    "start_time": "2022-05-04T12:44:56.980Z"
   },
   {
    "duration": 28,
    "start_time": "2022-05-04T12:44:59.380Z"
   },
   {
    "duration": 19,
    "start_time": "2022-05-04T12:46:26.816Z"
   },
   {
    "duration": 29,
    "start_time": "2022-05-04T12:46:28.264Z"
   },
   {
    "duration": 17,
    "start_time": "2022-05-04T12:46:29.862Z"
   }
  ],
  "colab": {
   "collapsed_sections": [
    "E0vqbgi9ay0H",
    "VUC88oWjTJw2"
   ],
   "name": "yandex_music_project.ipynb",
   "provenance": []
  },
  "kernelspec": {
   "display_name": "Python 3 (ipykernel)",
   "language": "python",
   "name": "python3"
  },
  "language_info": {
   "codemirror_mode": {
    "name": "ipython",
    "version": 3
   },
   "file_extension": ".py",
   "mimetype": "text/x-python",
   "name": "python",
   "nbconvert_exporter": "python",
   "pygments_lexer": "ipython3",
   "version": "3.9.12"
  },
  "toc": {
   "base_numbering": 1,
   "nav_menu": {},
   "number_sections": true,
   "sideBar": true,
   "skip_h1_title": true,
   "title_cell": "Table of Contents",
   "title_sidebar": "Contents",
   "toc_cell": false,
   "toc_position": {},
   "toc_section_display": true,
   "toc_window_display": true
  }
 },
 "nbformat": 4,
 "nbformat_minor": 1
}
